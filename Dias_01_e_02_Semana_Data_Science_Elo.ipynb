{
  "nbformat": 4,
  "nbformat_minor": 0,
  "metadata": {
    "colab": {
      "name": "Dias 01 e 02 - Semana_Data_Science_Elo",
      "provenance": [],
      "toc_visible": true,
      "authorship_tag": "ABX9TyMAM4IUOeHoYsLXEJm63lDB"
    },
    "kernelspec": {
      "display_name": "Python 3",
      "name": "python3"
    }
  },
  "cells": [
    {
      "cell_type": "markdown",
      "metadata": {
        "id": "rN7uu5W06r8h"
      },
      "source": [
        "# **Aula 01 - Introdução a Data Science**"
      ]
    },
    {
      "cell_type": "code",
      "metadata": {
        "colab": {
          "base_uri": "https://localhost:8080/"
        },
        "id": "JpZW8vxYtV6H",
        "outputId": "4b138105-7732-4ba9-ece4-641209de65a8"
      },
      "source": [
        "print( 'Hello World')"
      ],
      "execution_count": null,
      "outputs": [
        {
          "output_type": "stream",
          "text": [
            "Hello World\n"
          ],
          "name": "stdout"
        }
      ]
    },
    {
      "cell_type": "code",
      "metadata": {
        "colab": {
          "base_uri": "https://localhost:8080/"
        },
        "id": "NzOOm72-t7fd",
        "outputId": "46150f4e-ac5d-4974-fd93-55626fa1fd14"
      },
      "source": [
        "2 + 2\n"
      ],
      "execution_count": null,
      "outputs": [
        {
          "output_type": "execute_result",
          "data": {
            "text/plain": [
              "4"
            ]
          },
          "metadata": {
            "tags": []
          },
          "execution_count": 130
        }
      ]
    },
    {
      "cell_type": "code",
      "metadata": {
        "colab": {
          "base_uri": "https://localhost:8080/"
        },
        "id": "JLCe-xyJt-AA",
        "outputId": "4ad118ed-6447-405a-828e-71e8488dd1c1"
      },
      "source": [
        "2 * 5"
      ],
      "execution_count": null,
      "outputs": [
        {
          "output_type": "execute_result",
          "data": {
            "text/plain": [
              "10"
            ]
          },
          "metadata": {
            "tags": []
          },
          "execution_count": 131
        }
      ]
    },
    {
      "cell_type": "code",
      "metadata": {
        "colab": {
          "base_uri": "https://localhost:8080/"
        },
        "id": "-Q2CEXP-t_qO",
        "outputId": "4e134c96-dc66-40ad-d9bb-08150a91b052"
      },
      "source": [
        "9 / 3"
      ],
      "execution_count": null,
      "outputs": [
        {
          "output_type": "execute_result",
          "data": {
            "text/plain": [
              "3.0"
            ]
          },
          "metadata": {
            "tags": []
          },
          "execution_count": 132
        }
      ]
    },
    {
      "cell_type": "code",
      "metadata": {
        "id": "mH2BcphpuXeQ"
      },
      "source": [
        "# variáveis\n",
        "\n",
        "copo = 2\n"
      ],
      "execution_count": null,
      "outputs": []
    },
    {
      "cell_type": "code",
      "metadata": {
        "colab": {
          "base_uri": "https://localhost:8080/"
        },
        "id": "kYI18wbLuSnE",
        "outputId": "9d639238-0e44-4fec-e01f-2ec0398a642a"
      },
      "source": [
        "copo"
      ],
      "execution_count": null,
      "outputs": [
        {
          "output_type": "execute_result",
          "data": {
            "text/plain": [
              "2"
            ]
          },
          "metadata": {
            "tags": []
          },
          "execution_count": 134
        }
      ]
    },
    {
      "cell_type": "code",
      "metadata": {
        "id": "dNbCdsYKo2VO"
      },
      "source": [
        "a = 5"
      ],
      "execution_count": null,
      "outputs": []
    },
    {
      "cell_type": "code",
      "metadata": {
        "id": "d_QdRUrro8Eo"
      },
      "source": [
        "b = 8"
      ],
      "execution_count": null,
      "outputs": []
    },
    {
      "cell_type": "code",
      "metadata": {
        "colab": {
          "base_uri": "https://localhost:8080/"
        },
        "id": "Uo4FzAnfuksV",
        "outputId": "3184c66c-819f-486a-a401-7cd3de99c068"
      },
      "source": [
        " a + b"
      ],
      "execution_count": null,
      "outputs": [
        {
          "output_type": "execute_result",
          "data": {
            "text/plain": [
              "13"
            ]
          },
          "metadata": {
            "tags": []
          },
          "execution_count": 137
        }
      ]
    },
    {
      "cell_type": "code",
      "metadata": {
        "colab": {
          "base_uri": "https://localhost:8080/"
        },
        "id": "6rR20cFkunIM",
        "outputId": "2182359f-0468-4506-ae1b-3f8fc07d0c66"
      },
      "source": [
        "a * b"
      ],
      "execution_count": null,
      "outputs": [
        {
          "output_type": "execute_result",
          "data": {
            "text/plain": [
              "40"
            ]
          },
          "metadata": {
            "tags": []
          },
          "execution_count": 138
        }
      ]
    },
    {
      "cell_type": "code",
      "metadata": {
        "colab": {
          "base_uri": "https://localhost:8080/"
        },
        "id": "vg_EUI8uuroS",
        "outputId": "10f3d651-79fd-486a-e5c2-ea4c26154b4b"
      },
      "source": [
        "a + 5"
      ],
      "execution_count": null,
      "outputs": [
        {
          "output_type": "execute_result",
          "data": {
            "text/plain": [
              "10"
            ]
          },
          "metadata": {
            "tags": []
          },
          "execution_count": 139
        }
      ]
    },
    {
      "cell_type": "code",
      "metadata": {
        "colab": {
          "base_uri": "https://localhost:8080/"
        },
        "id": "Z-g6VXJeutKP",
        "outputId": "f2d6b9b6-163f-4726-a444-4a90ed510b10"
      },
      "source": [
        "10 - b"
      ],
      "execution_count": null,
      "outputs": [
        {
          "output_type": "execute_result",
          "data": {
            "text/plain": [
              "2"
            ]
          },
          "metadata": {
            "tags": []
          },
          "execution_count": 140
        }
      ]
    },
    {
      "cell_type": "code",
      "metadata": {
        "id": "rzDC01qKu3Ec"
      },
      "source": [
        "# funções\n",
        "\n",
        "def area(largura, comprimento):\n",
        "  a = largura * comprimento\n",
        "  return a "
      ],
      "execution_count": null,
      "outputs": []
    },
    {
      "cell_type": "code",
      "metadata": {
        "colab": {
          "base_uri": "https://localhost:8080/"
        },
        "id": "QlHjWHDsvf_9",
        "outputId": "48213905-bad3-4b8c-8119-166f55b0d2c9"
      },
      "source": [
        "area(10, 10)"
      ],
      "execution_count": null,
      "outputs": [
        {
          "output_type": "execute_result",
          "data": {
            "text/plain": [
              "100"
            ]
          },
          "metadata": {
            "tags": []
          },
          "execution_count": 142
        }
      ]
    },
    {
      "cell_type": "code",
      "metadata": {
        "colab": {
          "base_uri": "https://localhost:8080/"
        },
        "id": "65RBsCVov79l",
        "outputId": "e20c526c-83dc-4065-bd79-7c09baf07609"
      },
      "source": [
        "# condicional if\n",
        "\n",
        "x = 10\n",
        "\n",
        "if x == 11:\n",
        "  print('X é igual a 10')\n",
        "elif x == 10:\n",
        "  print('Você acertou x')\n",
        "else:\n",
        "  print('X não é igual a 11')"
      ],
      "execution_count": null,
      "outputs": [
        {
          "output_type": "stream",
          "text": [
            "Você acertou x\n"
          ],
          "name": "stdout"
        }
      ]
    },
    {
      "cell_type": "code",
      "metadata": {
        "colab": {
          "base_uri": "https://localhost:8080/"
        },
        "id": "YLAPAnutxcqi",
        "outputId": "acfb63c4-d69e-4a5e-fad2-d43a23a88459"
      },
      "source": [
        "print(1)\n",
        "print(2)\n",
        "print(3)\n",
        "print(4)\n",
        "print(5)"
      ],
      "execution_count": null,
      "outputs": [
        {
          "output_type": "stream",
          "text": [
            "1\n",
            "2\n",
            "3\n",
            "4\n",
            "5\n"
          ],
          "name": "stdout"
        }
      ]
    },
    {
      "cell_type": "code",
      "metadata": {
        "colab": {
          "base_uri": "https://localhost:8080/"
        },
        "id": "AKo7XBY2xn5x",
        "outputId": "26f8e1e1-70ae-48cf-9022-222601141b2b"
      },
      "source": [
        "for i in range(0, 10):\n",
        "  print(i)\n"
      ],
      "execution_count": null,
      "outputs": [
        {
          "output_type": "stream",
          "text": [
            "0\n",
            "1\n",
            "2\n",
            "3\n",
            "4\n",
            "5\n",
            "6\n",
            "7\n",
            "8\n",
            "9\n"
          ],
          "name": "stdout"
        }
      ]
    },
    {
      "cell_type": "code",
      "metadata": {
        "id": "4BqqcmO2zLDR"
      },
      "source": [
        "# Criar uma variável com o valor 10 e uma nova variável com o valor de a+3\n",
        "# Criar uma função que calcule o imc de uma pessoa\n",
        "# Criar um loop com as letras do seu nome"
      ],
      "execution_count": null,
      "outputs": []
    },
    {
      "cell_type": "code",
      "metadata": {
        "colab": {
          "base_uri": "https://localhost:8080/"
        },
        "id": "DUnmnqfOziQQ",
        "outputId": "cb968541-6863-4e1f-9461-5e957483578d"
      },
      "source": [
        "# Criar uma variável com o valor 10 e uma nova variável com o valor de a+3\n",
        "a = 10 \n",
        "b = a + 3 \n",
        "b"
      ],
      "execution_count": null,
      "outputs": [
        {
          "output_type": "execute_result",
          "data": {
            "text/plain": [
              "13"
            ]
          },
          "metadata": {
            "tags": []
          },
          "execution_count": 147
        }
      ]
    },
    {
      "cell_type": "code",
      "metadata": {
        "id": "ua88o9o6zvOA"
      },
      "source": [
        "# Criar uma função que calcule o imc de uma pessoa\n",
        "def imc(massa, altura):\n",
        "  x = massa / (altura ** altura)\n",
        "  return x"
      ],
      "execution_count": null,
      "outputs": []
    },
    {
      "cell_type": "code",
      "metadata": {
        "colab": {
          "base_uri": "https://localhost:8080/"
        },
        "id": "lDnEbCA40pl-",
        "outputId": "91eb1d98-0a5e-47e3-8e6e-5684bf2a228b"
      },
      "source": [
        "imc(70, 1.80)"
      ],
      "execution_count": null,
      "outputs": [
        {
          "output_type": "execute_result",
          "data": {
            "text/plain": [
              "24.30007034566254"
            ]
          },
          "metadata": {
            "tags": []
          },
          "execution_count": 149
        }
      ]
    },
    {
      "cell_type": "code",
      "metadata": {
        "colab": {
          "base_uri": "https://localhost:8080/"
        },
        "id": "UbFyJCwf04oT",
        "outputId": "3cf35835-cb7b-4e34-d62f-022dd4c628b7"
      },
      "source": [
        "for x in 'Luis':\n",
        "  print(x)"
      ],
      "execution_count": null,
      "outputs": [
        {
          "output_type": "stream",
          "text": [
            "L\n",
            "u\n",
            "i\n",
            "s\n"
          ],
          "name": "stdout"
        }
      ]
    },
    {
      "cell_type": "markdown",
      "metadata": {
        "id": "7qJG_IXg1FYd"
      },
      "source": [
        "**TAREFA PARA CASA**\n",
        "\n"
      ]
    },
    {
      "cell_type": "markdown",
      "metadata": {
        "id": "160xvrHC1d73"
      },
      "source": [
        "Criar uma condição(if) para dizer se a pessoa está acima do peso"
      ]
    },
    {
      "cell_type": "code",
      "metadata": {
        "id": "A2L0Xjg51OvF"
      },
      "source": [
        "def imc(massa, altura):\n",
        "  x = massa / (altura ** altura)\n",
        "  \n",
        "  if x < 17:\n",
        "    print('Muito abaixo do peso')\n",
        "  elif x < 18.5:\n",
        "    print('Abixo do peso')\n",
        "  elif x <25:\n",
        "    print('Peso normal')\n",
        "  elif x <30:\n",
        "    print('Acima do peso')\n",
        "  elif x <35:\n",
        "    print('Obesidade Grau I')\n",
        "  elif x < 40:\n",
        "    print('Obesidade Grau II')\n",
        "  else:\n",
        "    print('Obesidade Grau III')\n",
        "\n",
        "  return x    "
      ],
      "execution_count": null,
      "outputs": []
    },
    {
      "cell_type": "code",
      "metadata": {
        "colab": {
          "base_uri": "https://localhost:8080/"
        },
        "id": "pTMYSo911qOQ",
        "outputId": "6902aea9-f96a-4702-9ae8-018df51ae9b9"
      },
      "source": [
        "imc(70, 1.80)"
      ],
      "execution_count": null,
      "outputs": [
        {
          "output_type": "stream",
          "text": [
            "Peso normal\n"
          ],
          "name": "stdout"
        },
        {
          "output_type": "execute_result",
          "data": {
            "text/plain": [
              "24.30007034566254"
            ]
          },
          "metadata": {
            "tags": []
          },
          "execution_count": 152
        }
      ]
    },
    {
      "cell_type": "markdown",
      "metadata": {
        "id": "7SQrSlJc6_Gp"
      },
      "source": [
        "# **Aula 02 - Extraindo os Dados da Internet**"
      ]
    },
    {
      "cell_type": "markdown",
      "metadata": {
        "id": "1kQjEeRm5dtB"
      },
      "source": [
        "# **Taks 1 - Importar as bibliotecas**"
      ]
    },
    {
      "cell_type": "code",
      "metadata": {
        "id": "NkMWwVhJ518S"
      },
      "source": [
        "# dataframe e manipulação\n",
        "import pandas  as pd\n",
        "\n",
        "# requesitar dados do site\n",
        "import requests\n",
        "\n",
        "# inspecionar html\n",
        "from bs4      import BeautifulSoup"
      ],
      "execution_count": null,
      "outputs": []
    },
    {
      "cell_type": "markdown",
      "metadata": {
        "id": "EKfwE-Rr6f_L"
      },
      "source": [
        "# **Taks 2 - Obter os dados do jogadores**"
      ]
    },
    {
      "cell_type": "code",
      "metadata": {
        "id": "VAgFYbdW7REw"
      },
      "source": [
        "url = 'http://sofifa.com/players?offset='"
      ],
      "execution_count": null,
      "outputs": []
    },
    {
      "cell_type": "code",
      "metadata": {
        "id": "Vfb54QiD7dqY"
      },
      "source": [
        "colunas = ['Nome', 'Idade', 'Posicao', 'Media', 'Potencial', 'Time', 'Salario', 'Total_Pontos']"
      ],
      "execution_count": null,
      "outputs": []
    },
    {
      "cell_type": "code",
      "metadata": {
        "id": "KjQCLfNO7sTP"
      },
      "source": [
        "dados = pd.DataFrame(columns=colunas)"
      ],
      "execution_count": null,
      "outputs": []
    },
    {
      "cell_type": "code",
      "metadata": {
        "colab": {
          "base_uri": "https://localhost:8080/",
          "height": 47
        },
        "id": "xfeFjpzq7yhI",
        "outputId": "734d98b1-3c0c-4622-ef10-06ee6cdf1b66"
      },
      "source": [
        "dados.head()"
      ],
      "execution_count": null,
      "outputs": [
        {
          "output_type": "execute_result",
          "data": {
            "text/html": [
              "<div>\n",
              "<style scoped>\n",
              "    .dataframe tbody tr th:only-of-type {\n",
              "        vertical-align: middle;\n",
              "    }\n",
              "\n",
              "    .dataframe tbody tr th {\n",
              "        vertical-align: top;\n",
              "    }\n",
              "\n",
              "    .dataframe thead th {\n",
              "        text-align: right;\n",
              "    }\n",
              "</style>\n",
              "<table border=\"1\" class=\"dataframe\">\n",
              "  <thead>\n",
              "    <tr style=\"text-align: right;\">\n",
              "      <th></th>\n",
              "      <th>Nome</th>\n",
              "      <th>Idade</th>\n",
              "      <th>Posicao</th>\n",
              "      <th>Media</th>\n",
              "      <th>Potencial</th>\n",
              "      <th>Time</th>\n",
              "      <th>Salario</th>\n",
              "      <th>Total_Pontos</th>\n",
              "    </tr>\n",
              "  </thead>\n",
              "  <tbody>\n",
              "  </tbody>\n",
              "</table>\n",
              "</div>"
            ],
            "text/plain": [
              "Empty DataFrame\n",
              "Columns: [Nome, Idade, Posicao, Media, Potencial, Time, Salario, Total_Pontos]\n",
              "Index: []"
            ]
          },
          "metadata": {
            "tags": []
          },
          "execution_count": 157
        }
      ]
    },
    {
      "cell_type": "code",
      "metadata": {
        "colab": {
          "background_save": true
        },
        "id": "vsZmEJ0j7188"
      },
      "source": [
        "for offset in range(0, 50):\n",
        "  url = url + str(offset*61)\n",
        "  p_html = requests.get(url)\n",
        "  p_soup = p_html.text\n",
        "  data = BeautifulSoup(p_soup, 'html.parser')\n",
        "  table = data.find('tbody')\n",
        "  for i in table.findAll('tr'):\n",
        "    td = i.findAll('td')\n",
        "    Nome  = td[1].findAll('a')[0].text\n",
        "    Idade = td[2].text\n",
        "    Posicao = td[1].findAll('a')[1].text\n",
        "    Media   = td[3].find('span').text\n",
        "    Potencial = td[4].find('span').text\n",
        "    Time = td[5].find('a').text\n",
        "    Salario = td[7].text.strip()\n",
        "    Total_Pontos = td[8].text.strip()\n",
        "    \n",
        "    dados_jogadores = pd.DataFrame([[Nome, Idade, Posicao, Media, Potencial,\n",
        "                                     Time, Salario, Total_Pontos]])\n",
        "\n",
        "    dados_jogadores.columns = colunas\n",
        "    \n",
        "    dados = dados.append(dados_jogadores, ignore_index=True)\n",
        "\n"
      ],
      "execution_count": null,
      "outputs": []
    },
    {
      "cell_type": "code",
      "metadata": {
        "colab": {
          "base_uri": "https://localhost:8080/"
        },
        "id": "bWfx4csdPZrb",
        "outputId": "6cb573fc-7b39-47a2-9eb2-c94b2b93946a"
      },
      "source": [
        "print(dados)"
      ],
      "execution_count": null,
      "outputs": [
        {
          "output_type": "stream",
          "text": [
            "                 Nome Idade Posicao  ...               Time Salario Total_Pontos\n",
            "0           S. García    29      ST  ...         Godoy Cruz    €12K         1847\n",
            "1           S. Tonali    20     CDM  ...              Milan    €25K         2082\n",
            "2      R. Gravenberch    18      CM  ...               Ajax     €6K         2033\n",
            "3          M. Mohamed    22      ST  ...     Galatasaray SK    €47K         1798\n",
            "4           A. Diallo    17      RM  ...  Manchester United     €3K         1518\n",
            "...               ...   ...     ...  ...                ...     ...          ...\n",
            "2995          A. Isak    20      ST  ...      Real Sociedad    €28K         1874\n",
            "2996      N. Williams    19      RB  ...          Liverpool    €13K         1675\n",
            "2997       B. Gilmour    19      CM  ...            Chelsea    €25K         1812\n",
            "2998         L. Messi    33      RW  ...       FC Barcelona   €560K         2231\n",
            "2999         A. Gómez    32     CAM  ...         Sevilla FC    €55K         2075\n",
            "\n",
            "[3000 rows x 8 columns]\n"
          ],
          "name": "stdout"
        }
      ]
    },
    {
      "cell_type": "markdown",
      "metadata": {
        "id": "lU7PMuiqQDXJ"
      },
      "source": [
        "# **Taks 3 - Exportar os nosso Dados**"
      ]
    },
    {
      "cell_type": "code",
      "metadata": {
        "id": "sjIAMfFQQI_k"
      },
      "source": [
        "dados.to_csv('sds_fifa.csv', encoding='utf-8', index=True)"
      ],
      "execution_count": null,
      "outputs": []
    },
    {
      "cell_type": "code",
      "metadata": {
        "id": "jbpNmrz6QiWX"
      },
      "source": [
        "dados.to_excel('sds_fifa.xlsx', index=True)"
      ],
      "execution_count": null,
      "outputs": []
    }
  ]
}