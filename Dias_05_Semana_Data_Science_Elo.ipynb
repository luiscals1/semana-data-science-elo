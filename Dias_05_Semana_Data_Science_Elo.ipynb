{
  "nbformat": 4,
  "nbformat_minor": 0,
  "metadata": {
    "colab": {
      "name": "Dias 05 - Semana_Data_Science_Elo",
      "provenance": [],
      "authorship_tag": "ABX9TyPpjYyoKuqFxOr3JtsXEqK+"
    },
    "kernelspec": {
      "name": "python3",
      "display_name": "Python 3"
    }
  },
  "cells": [
    {
      "cell_type": "markdown",
      "metadata": {
        "id": "LUeORZl1tmXz"
      },
      "source": [
        "# **Taks 1 - Importar bibliotecas e dados**\n",
        "\n",
        "\n",
        "\n"
      ]
    },
    {
      "cell_type": "code",
      "metadata": {
        "id": "FHq1Y4qOuKmz"
      },
      "source": [
        "import pandas  as pd\n",
        "\n",
        "import numpy as np\n",
        "\n",
        "import seaborn as sns\n",
        "\n",
        "import matplotlib.pyplot as plt"
      ],
      "execution_count": null,
      "outputs": []
    },
    {
      "cell_type": "code",
      "metadata": {
        "id": "RayZ6SD6uQCQ"
      },
      "source": [
        "dados = pd.read_csv('sds_fifa_atualizado.csv')"
      ],
      "execution_count": null,
      "outputs": []
    },
    {
      "cell_type": "code",
      "metadata": {
        "colab": {
          "base_uri": "https://localhost:8080/",
          "height": 204
        },
        "id": "zCksZLuCuXE-",
        "outputId": "5dd8aff7-abef-48bc-90cf-88ef65a7b19c"
      },
      "source": [
        "dados.head()"
      ],
      "execution_count": null,
      "outputs": [
        {
          "output_type": "execute_result",
          "data": {
            "text/html": [
              "<div>\n",
              "<style scoped>\n",
              "    .dataframe tbody tr th:only-of-type {\n",
              "        vertical-align: middle;\n",
              "    }\n",
              "\n",
              "    .dataframe tbody tr th {\n",
              "        vertical-align: top;\n",
              "    }\n",
              "\n",
              "    .dataframe thead th {\n",
              "        text-align: right;\n",
              "    }\n",
              "</style>\n",
              "<table border=\"1\" class=\"dataframe\">\n",
              "  <thead>\n",
              "    <tr style=\"text-align: right;\">\n",
              "      <th></th>\n",
              "      <th>Unnamed: 0</th>\n",
              "      <th>Nome</th>\n",
              "      <th>Idade</th>\n",
              "      <th>Posicao</th>\n",
              "      <th>Media</th>\n",
              "      <th>Potencial</th>\n",
              "      <th>Time</th>\n",
              "      <th>Salario</th>\n",
              "      <th>Total_Pontos</th>\n",
              "    </tr>\n",
              "  </thead>\n",
              "  <tbody>\n",
              "    <tr>\n",
              "      <th>0</th>\n",
              "      <td>0</td>\n",
              "      <td>S. García</td>\n",
              "      <td>29</td>\n",
              "      <td>ST</td>\n",
              "      <td>74</td>\n",
              "      <td>74</td>\n",
              "      <td>Godoy Cruz</td>\n",
              "      <td>12000</td>\n",
              "      <td>1847</td>\n",
              "    </tr>\n",
              "    <tr>\n",
              "      <th>1</th>\n",
              "      <td>1</td>\n",
              "      <td>S. Tonali</td>\n",
              "      <td>20</td>\n",
              "      <td>CDM</td>\n",
              "      <td>77</td>\n",
              "      <td>88</td>\n",
              "      <td>Milan</td>\n",
              "      <td>25000</td>\n",
              "      <td>2082</td>\n",
              "    </tr>\n",
              "    <tr>\n",
              "      <th>2</th>\n",
              "      <td>2</td>\n",
              "      <td>R. Gravenberch</td>\n",
              "      <td>18</td>\n",
              "      <td>CM</td>\n",
              "      <td>76</td>\n",
              "      <td>89</td>\n",
              "      <td>Ajax</td>\n",
              "      <td>6000</td>\n",
              "      <td>2033</td>\n",
              "    </tr>\n",
              "    <tr>\n",
              "      <th>3</th>\n",
              "      <td>3</td>\n",
              "      <td>M. Mohamed</td>\n",
              "      <td>22</td>\n",
              "      <td>ST</td>\n",
              "      <td>74</td>\n",
              "      <td>81</td>\n",
              "      <td>Galatasaray SK</td>\n",
              "      <td>47000</td>\n",
              "      <td>1798</td>\n",
              "    </tr>\n",
              "    <tr>\n",
              "      <th>4</th>\n",
              "      <td>4</td>\n",
              "      <td>A. Diallo</td>\n",
              "      <td>17</td>\n",
              "      <td>RM</td>\n",
              "      <td>66</td>\n",
              "      <td>86</td>\n",
              "      <td>Manchester United</td>\n",
              "      <td>3000</td>\n",
              "      <td>1518</td>\n",
              "    </tr>\n",
              "  </tbody>\n",
              "</table>\n",
              "</div>"
            ],
            "text/plain": [
              "   Unnamed: 0             Nome  Idade  ...               Time  Salario  Total_Pontos\n",
              "0           0        S. García     29  ...         Godoy Cruz    12000          1847\n",
              "1           1        S. Tonali     20  ...              Milan    25000          2082\n",
              "2           2   R. Gravenberch     18  ...               Ajax     6000          2033\n",
              "3           3       M. Mohamed     22  ...     Galatasaray SK    47000          1798\n",
              "4           4        A. Diallo     17  ...  Manchester United     3000          1518\n",
              "\n",
              "[5 rows x 9 columns]"
            ]
          },
          "metadata": {
            "tags": []
          },
          "execution_count": 30
        }
      ]
    },
    {
      "cell_type": "code",
      "metadata": {
        "id": "O84HhkfjujeZ"
      },
      "source": [
        "dados.drop('Unnamed: 0', axis=1, inplace=True)"
      ],
      "execution_count": null,
      "outputs": []
    },
    {
      "cell_type": "code",
      "metadata": {
        "colab": {
          "base_uri": "https://localhost:8080/",
          "height": 204
        },
        "id": "xhJWleU9urAs",
        "outputId": "5d05a9fd-fc0c-49a0-e226-66177266a0cd"
      },
      "source": [
        "dados.head()"
      ],
      "execution_count": null,
      "outputs": [
        {
          "output_type": "execute_result",
          "data": {
            "text/html": [
              "<div>\n",
              "<style scoped>\n",
              "    .dataframe tbody tr th:only-of-type {\n",
              "        vertical-align: middle;\n",
              "    }\n",
              "\n",
              "    .dataframe tbody tr th {\n",
              "        vertical-align: top;\n",
              "    }\n",
              "\n",
              "    .dataframe thead th {\n",
              "        text-align: right;\n",
              "    }\n",
              "</style>\n",
              "<table border=\"1\" class=\"dataframe\">\n",
              "  <thead>\n",
              "    <tr style=\"text-align: right;\">\n",
              "      <th></th>\n",
              "      <th>Nome</th>\n",
              "      <th>Idade</th>\n",
              "      <th>Posicao</th>\n",
              "      <th>Media</th>\n",
              "      <th>Potencial</th>\n",
              "      <th>Time</th>\n",
              "      <th>Salario</th>\n",
              "      <th>Total_Pontos</th>\n",
              "    </tr>\n",
              "  </thead>\n",
              "  <tbody>\n",
              "    <tr>\n",
              "      <th>0</th>\n",
              "      <td>S. García</td>\n",
              "      <td>29</td>\n",
              "      <td>ST</td>\n",
              "      <td>74</td>\n",
              "      <td>74</td>\n",
              "      <td>Godoy Cruz</td>\n",
              "      <td>12000</td>\n",
              "      <td>1847</td>\n",
              "    </tr>\n",
              "    <tr>\n",
              "      <th>1</th>\n",
              "      <td>S. Tonali</td>\n",
              "      <td>20</td>\n",
              "      <td>CDM</td>\n",
              "      <td>77</td>\n",
              "      <td>88</td>\n",
              "      <td>Milan</td>\n",
              "      <td>25000</td>\n",
              "      <td>2082</td>\n",
              "    </tr>\n",
              "    <tr>\n",
              "      <th>2</th>\n",
              "      <td>R. Gravenberch</td>\n",
              "      <td>18</td>\n",
              "      <td>CM</td>\n",
              "      <td>76</td>\n",
              "      <td>89</td>\n",
              "      <td>Ajax</td>\n",
              "      <td>6000</td>\n",
              "      <td>2033</td>\n",
              "    </tr>\n",
              "    <tr>\n",
              "      <th>3</th>\n",
              "      <td>M. Mohamed</td>\n",
              "      <td>22</td>\n",
              "      <td>ST</td>\n",
              "      <td>74</td>\n",
              "      <td>81</td>\n",
              "      <td>Galatasaray SK</td>\n",
              "      <td>47000</td>\n",
              "      <td>1798</td>\n",
              "    </tr>\n",
              "    <tr>\n",
              "      <th>4</th>\n",
              "      <td>A. Diallo</td>\n",
              "      <td>17</td>\n",
              "      <td>RM</td>\n",
              "      <td>66</td>\n",
              "      <td>86</td>\n",
              "      <td>Manchester United</td>\n",
              "      <td>3000</td>\n",
              "      <td>1518</td>\n",
              "    </tr>\n",
              "  </tbody>\n",
              "</table>\n",
              "</div>"
            ],
            "text/plain": [
              "              Nome  Idade Posicao  ...               Time  Salario Total_Pontos\n",
              "0        S. García     29      ST  ...         Godoy Cruz    12000         1847\n",
              "1        S. Tonali     20     CDM  ...              Milan    25000         2082\n",
              "2   R. Gravenberch     18      CM  ...               Ajax     6000         2033\n",
              "3       M. Mohamed     22      ST  ...     Galatasaray SK    47000         1798\n",
              "4        A. Diallo     17      RM  ...  Manchester United     3000         1518\n",
              "\n",
              "[5 rows x 8 columns]"
            ]
          },
          "metadata": {
            "tags": []
          },
          "execution_count": 32
        }
      ]
    },
    {
      "cell_type": "markdown",
      "metadata": {
        "id": "_UyTQ-CWtvcp"
      },
      "source": [
        "# **Taks 2 - Pré-Processamentos dos dados**"
      ]
    },
    {
      "cell_type": "code",
      "metadata": {
        "colab": {
          "base_uri": "https://localhost:8080/"
        },
        "id": "Gcn0cYiZuvYP",
        "outputId": "1e5815cb-08ce-4323-f345-f5cacd848e38"
      },
      "source": [
        "dados.columns"
      ],
      "execution_count": null,
      "outputs": [
        {
          "output_type": "execute_result",
          "data": {
            "text/plain": [
              "Index(['Nome', 'Idade', 'Posicao', 'Media', 'Potencial', 'Time', 'Salario',\n",
              "       'Total_Pontos'],\n",
              "      dtype='object')"
            ]
          },
          "metadata": {
            "tags": []
          },
          "execution_count": 33
        }
      ]
    },
    {
      "cell_type": "code",
      "metadata": {
        "id": "uSsHQS-Bu2v9"
      },
      "source": [
        "colunas = ['Nome', 'Time']"
      ],
      "execution_count": null,
      "outputs": []
    },
    {
      "cell_type": "code",
      "metadata": {
        "id": "fyW20p49u7KS"
      },
      "source": [
        "dados.drop(colunas, axis=1, inplace=True)"
      ],
      "execution_count": null,
      "outputs": []
    },
    {
      "cell_type": "code",
      "metadata": {
        "colab": {
          "base_uri": "https://localhost:8080/",
          "height": 204
        },
        "id": "rtlTyAYtvBu8",
        "outputId": "ffde1ea9-afb7-476c-c432-2154c25f771c"
      },
      "source": [
        "dados.head()"
      ],
      "execution_count": null,
      "outputs": [
        {
          "output_type": "execute_result",
          "data": {
            "text/html": [
              "<div>\n",
              "<style scoped>\n",
              "    .dataframe tbody tr th:only-of-type {\n",
              "        vertical-align: middle;\n",
              "    }\n",
              "\n",
              "    .dataframe tbody tr th {\n",
              "        vertical-align: top;\n",
              "    }\n",
              "\n",
              "    .dataframe thead th {\n",
              "        text-align: right;\n",
              "    }\n",
              "</style>\n",
              "<table border=\"1\" class=\"dataframe\">\n",
              "  <thead>\n",
              "    <tr style=\"text-align: right;\">\n",
              "      <th></th>\n",
              "      <th>Idade</th>\n",
              "      <th>Posicao</th>\n",
              "      <th>Media</th>\n",
              "      <th>Potencial</th>\n",
              "      <th>Salario</th>\n",
              "      <th>Total_Pontos</th>\n",
              "    </tr>\n",
              "  </thead>\n",
              "  <tbody>\n",
              "    <tr>\n",
              "      <th>0</th>\n",
              "      <td>29</td>\n",
              "      <td>ST</td>\n",
              "      <td>74</td>\n",
              "      <td>74</td>\n",
              "      <td>12000</td>\n",
              "      <td>1847</td>\n",
              "    </tr>\n",
              "    <tr>\n",
              "      <th>1</th>\n",
              "      <td>20</td>\n",
              "      <td>CDM</td>\n",
              "      <td>77</td>\n",
              "      <td>88</td>\n",
              "      <td>25000</td>\n",
              "      <td>2082</td>\n",
              "    </tr>\n",
              "    <tr>\n",
              "      <th>2</th>\n",
              "      <td>18</td>\n",
              "      <td>CM</td>\n",
              "      <td>76</td>\n",
              "      <td>89</td>\n",
              "      <td>6000</td>\n",
              "      <td>2033</td>\n",
              "    </tr>\n",
              "    <tr>\n",
              "      <th>3</th>\n",
              "      <td>22</td>\n",
              "      <td>ST</td>\n",
              "      <td>74</td>\n",
              "      <td>81</td>\n",
              "      <td>47000</td>\n",
              "      <td>1798</td>\n",
              "    </tr>\n",
              "    <tr>\n",
              "      <th>4</th>\n",
              "      <td>17</td>\n",
              "      <td>RM</td>\n",
              "      <td>66</td>\n",
              "      <td>86</td>\n",
              "      <td>3000</td>\n",
              "      <td>1518</td>\n",
              "    </tr>\n",
              "  </tbody>\n",
              "</table>\n",
              "</div>"
            ],
            "text/plain": [
              "   Idade Posicao  Media  Potencial  Salario  Total_Pontos\n",
              "0     29      ST     74         74    12000          1847\n",
              "1     20     CDM     77         88    25000          2082\n",
              "2     18      CM     76         89     6000          2033\n",
              "3     22      ST     74         81    47000          1798\n",
              "4     17      RM     66         86     3000          1518"
            ]
          },
          "metadata": {
            "tags": []
          },
          "execution_count": 36
        }
      ]
    },
    {
      "cell_type": "code",
      "metadata": {
        "id": "aJ0MNEanvFw4"
      },
      "source": [
        "dados = dados[['Idade', 'Posicao', 'Media', 'Potencial','Total_Pontos',\n",
        "               'Salario']]"
      ],
      "execution_count": null,
      "outputs": []
    },
    {
      "cell_type": "code",
      "metadata": {
        "colab": {
          "base_uri": "https://localhost:8080/",
          "height": 204
        },
        "id": "Vsow8aqavWK4",
        "outputId": "bac827de-4ab4-489c-f362-19e04f4d0184"
      },
      "source": [
        "dados.head()"
      ],
      "execution_count": null,
      "outputs": [
        {
          "output_type": "execute_result",
          "data": {
            "text/html": [
              "<div>\n",
              "<style scoped>\n",
              "    .dataframe tbody tr th:only-of-type {\n",
              "        vertical-align: middle;\n",
              "    }\n",
              "\n",
              "    .dataframe tbody tr th {\n",
              "        vertical-align: top;\n",
              "    }\n",
              "\n",
              "    .dataframe thead th {\n",
              "        text-align: right;\n",
              "    }\n",
              "</style>\n",
              "<table border=\"1\" class=\"dataframe\">\n",
              "  <thead>\n",
              "    <tr style=\"text-align: right;\">\n",
              "      <th></th>\n",
              "      <th>Idade</th>\n",
              "      <th>Posicao</th>\n",
              "      <th>Media</th>\n",
              "      <th>Potencial</th>\n",
              "      <th>Total_Pontos</th>\n",
              "      <th>Salario</th>\n",
              "    </tr>\n",
              "  </thead>\n",
              "  <tbody>\n",
              "    <tr>\n",
              "      <th>0</th>\n",
              "      <td>29</td>\n",
              "      <td>ST</td>\n",
              "      <td>74</td>\n",
              "      <td>74</td>\n",
              "      <td>1847</td>\n",
              "      <td>12000</td>\n",
              "    </tr>\n",
              "    <tr>\n",
              "      <th>1</th>\n",
              "      <td>20</td>\n",
              "      <td>CDM</td>\n",
              "      <td>77</td>\n",
              "      <td>88</td>\n",
              "      <td>2082</td>\n",
              "      <td>25000</td>\n",
              "    </tr>\n",
              "    <tr>\n",
              "      <th>2</th>\n",
              "      <td>18</td>\n",
              "      <td>CM</td>\n",
              "      <td>76</td>\n",
              "      <td>89</td>\n",
              "      <td>2033</td>\n",
              "      <td>6000</td>\n",
              "    </tr>\n",
              "    <tr>\n",
              "      <th>3</th>\n",
              "      <td>22</td>\n",
              "      <td>ST</td>\n",
              "      <td>74</td>\n",
              "      <td>81</td>\n",
              "      <td>1798</td>\n",
              "      <td>47000</td>\n",
              "    </tr>\n",
              "    <tr>\n",
              "      <th>4</th>\n",
              "      <td>17</td>\n",
              "      <td>RM</td>\n",
              "      <td>66</td>\n",
              "      <td>86</td>\n",
              "      <td>1518</td>\n",
              "      <td>3000</td>\n",
              "    </tr>\n",
              "  </tbody>\n",
              "</table>\n",
              "</div>"
            ],
            "text/plain": [
              "   Idade Posicao  Media  Potencial  Total_Pontos  Salario\n",
              "0     29      ST     74         74          1847    12000\n",
              "1     20     CDM     77         88          2082    25000\n",
              "2     18      CM     76         89          2033     6000\n",
              "3     22      ST     74         81          1798    47000\n",
              "4     17      RM     66         86          1518     3000"
            ]
          },
          "metadata": {
            "tags": []
          },
          "execution_count": 38
        }
      ]
    },
    {
      "cell_type": "code",
      "metadata": {
        "id": "hwa6jK22vvRd"
      },
      "source": [
        "# X - elementos previsores\n",
        "# y - objetivos "
      ],
      "execution_count": null,
      "outputs": []
    },
    {
      "cell_type": "code",
      "metadata": {
        "colab": {
          "base_uri": "https://localhost:8080/"
        },
        "id": "4venWxyuv_Zx",
        "outputId": "e942f7c9-f8c3-448a-9a20-c818de42791f"
      },
      "source": [
        "#             :todas as linhas, : da primeira a última coluna    \n",
        "X = dados.iloc[:,:-1].values\n",
        "print(X)"
      ],
      "execution_count": null,
      "outputs": [
        {
          "output_type": "stream",
          "text": [
            "[[29 'ST' 74 74 1847]\n",
            " [20 'CDM' 77 88 2082]\n",
            " [18 'CM' 76 89 2033]\n",
            " [22 'ST' 74 81 1798]\n",
            " [17 'RM' 66 86 1518]\n",
            " [19 'CB' 75 85 1693]\n",
            " [17 'CAM' 70 86 1585]\n",
            " [25 'CDM' 82 86 2096]\n",
            " [18 'CB' 72 87 1836]\n",
            " [23 'ST' 81 87 1966]\n",
            " [17 'CAM' 75 88 1858]\n",
            " [17 'LM' 76 90 1867]\n",
            " [25 'CAM' 88 91 2336]\n",
            " [17 'CM' 78 89 2086]\n",
            " [18 'RM' 72 87 1792]\n",
            " [20 'RM' 74 84 1894]\n",
            " [21 'CB' 81 87 1836]\n",
            " [17 'LW' 76 90 1817]\n",
            " [23 'CAM' 77 80 1927]\n",
            " [19 'RB' 75 88 1966]\n",
            " [17 'CAM' 75 88 1876]\n",
            " [23 'RM' 81 87 2071]\n",
            " [20 'LW' 77 85 1797]\n",
            " [16 'RW' 69 88 1622]\n",
            " [20 'RW' 79 88 1940]\n",
            " [22 'RW' 79 87 2021]\n",
            " [17 'CM' 65 85 1656]\n",
            " [19 'ST' 86 92 2051]\n",
            " [18 'ST' 69 86 1750]\n",
            " [18 'RM' 77 88 1968]\n",
            " [22 'LW' 82 86 2006]\n",
            " [25 'RW' 76 77 1938]\n",
            " [24 'LW' 83 86 2014]\n",
            " [20 'CB' 75 85 1714]\n",
            " [24 'ST' 82 84 2043]\n",
            " [17 'CM' 74 88 1962]\n",
            " [17 'ST' 74 87 1881]\n",
            " [18 'RM' 77 89 1922]\n",
            " [21 'CM' 83 89 2174]\n",
            " [28 'CB' 90 91 2109]\n",
            " [21 'CB' 81 90 1841]\n",
            " [22 'CB' 76 87 1661]\n",
            " [19 'CAM' 74 88 2001]\n",
            " [35 'ST' 92 92 2221]\n",
            " [18 'LW' 70 87 1815]\n",
            " [23 'ST' 79 84 1849]\n",
            " [20 'LB' 73 86 1900]\n",
            " [19 'CAM' 77 87 1967]\n",
            " [17 'CAM' 60 83 1606]\n",
            " [21 'ST' 76 87 1905]\n",
            " [19 'LB' 81 89 2111]\n",
            " [22 'ST' 77 84 1908]\n",
            " [19 'RW' 74 88 1981]\n",
            " [21 'LW' 74 82 1944]\n",
            " [21 'CDM' 80 86 1833]\n",
            " [20 'ST' 79 86 1874]\n",
            " [19 'RB' 68 85 1675]\n",
            " [19 'CM' 71 86 1812]\n",
            " [33 'RW' 93 93 2231]\n",
            " [32 'CAM' 86 86 2075]\n",
            " [19 'ST' 73 86 1933]\n",
            " [18 'CB' 71 85 1652]\n",
            " [20 'CAM' 81 91 1997]\n",
            " [23 'CB' 82 87 1777]\n",
            " [28 'RW' 82 82 2103]\n",
            " [22 'CDM' 78 85 2047]\n",
            " [20 'ST' 70 84 1669]\n",
            " [21 'CB' 78 88 1725]\n",
            " [19 'RWB' 73 85 1777]\n",
            " [21 'CB' 71 81 1591]\n",
            " [21 'CAM' 83 89 2096]\n",
            " [17 'CAM' 66 87 1629]\n",
            " [19 'RW' 75 86 1816]\n",
            " [21 'ST' 90 95 2147]\n",
            " [23 'CM' 86 91 2196]\n",
            " [22 'LM' 85 91 2158]\n",
            " [20 'CF' 83 93 2072]\n",
            " [22 'RB' 80 86 1950]\n",
            " [22 'RB' 77 85 1991]\n",
            " [17 'CM' 65 85 1742]\n",
            " [21 'GK' 75 86 1120]\n",
            " [23 'CM' 81 88 2147]\n",
            " [18 'CB' 67 86 1529]\n",
            " [17 'CB' 62 85 1495]\n",
            " [20 'ST' 77 86 1818]\n",
            " [25 'CM' 80 83 2147]\n",
            " [20 'RM' 86 92 1999]\n",
            " [21 'CAM' 80 87 1993]\n",
            " [20 'RW' 78 88 2005]\n",
            " [20 'RB' 74 83 1788]\n",
            " [19 'CM' 71 86 1854]\n",
            " [18 'ST' 71 84 1645]\n",
            " [19 'LW' 80 90 1916]\n",
            " [20 'CM' 75 87 1889]\n",
            " [26 'ST' 81 82 1968]\n",
            " [17 'CM' 67 85 1831]\n",
            " [19 'ST' 75 85 1813]\n",
            " [18 'GK' 68 86 911]\n",
            " [23 'CDM' 82 87 2059]\n",
            " [20 'ST' 77 84 1783]\n",
            " [19 'LW' 74 86 1844]\n",
            " [23 'CDM' 80 85 2098]\n",
            " [17 'RW' 70 87 1610]\n",
            " [18 'LWB' 75 86 1936]\n",
            " [25 'CDM' 89 90 2284]\n",
            " [24 'GK' 84 88 1490]\n",
            " [23 'LM' 79 85 1859]\n",
            " [22 'CB' 73 84 1781]\n",
            " [21 'CB' 80 87 1875]\n",
            " [24 'ST' 76 81 1922]\n",
            " [21 'ST' 78 86 1925]\n",
            " [22 'CB' 74 81 1804]\n",
            " [20 'LW' 81 88 1889]\n",
            " [19 'RW' 79 90 1931]\n",
            " [22 'RM' 77 86 1838]\n",
            " [17 'ST' 69 85 1621]\n",
            " [20 'CM' 73 86 1851]\n",
            " [19 'RB' 71 84 1855]\n",
            " [31 'ST' 92 92 2213]\n",
            " [20 'RW' 77 87 1906]]\n"
          ],
          "name": "stdout"
        }
      ]
    },
    {
      "cell_type": "code",
      "metadata": {
        "colab": {
          "base_uri": "https://localhost:8080/"
        },
        "id": "jkSSKzP9wrTA",
        "outputId": "562e7e8f-04f8-46ee-915f-41a404474964"
      },
      "source": [
        "#             :todas as linhas, :valor da última coluna   \n",
        "y = dados.iloc[:,-1].values\n",
        "print(y)"
      ],
      "execution_count": null,
      "outputs": [
        {
          "output_type": "stream",
          "text": [
            "[ 12000  25000   6000  47000   3000  42000   4000  50000    500  90000\n",
            "   6000  14000 240000   6000   5000  16000  23000  24000  25000  50000\n",
            "   7000 100000  59000   6000  17000  16000   2000  67000   6000  25000\n",
            "  75000  74000  82000  17000  40000   6000    500  33000 135000 210000\n",
            "  41000  40000   9000 220000    500  30000   7000  27000   2000  11000\n",
            "  40000  25000  11000  12000  33000  28000  13000  25000 560000  55000\n",
            "  13000  10000  95000 110000 115000  47000  16000  33000  20000  45000\n",
            " 135000   1000  44000 160000 210000 150000  61000  46000  34000   4000\n",
            "  50000  90000   1000    500  29000  62000  76000  40000  58000   8000\n",
            "  25000   5000  95000  77000  61000    700   7000    550  41000  59000\n",
            "  38000  90000   9000   3000 150000  18000  41000  42000  44000  49000\n",
            "  17000  60000  60000  90000  18000   7000    650  16000 270000  95000]\n"
          ],
          "name": "stdout"
        }
      ]
    },
    {
      "cell_type": "code",
      "metadata": {
        "id": "IumSCuwHxLbl",
        "colab": {
          "base_uri": "https://localhost:8080/"
        },
        "outputId": "a14bd99f-edb0-4129-ba63-3d2ccb901e5e"
      },
      "source": [
        "# importando bibliotecas\n",
        "from sklearn.compose import ColumnTransformer\n",
        "from sklearn.preprocessing import OneHotEncoder\n",
        "\n",
        "ct = ColumnTransformer([('encoder', OneHotEncoder(), [1])], remainder='passthrough')\n",
        "#Encaixe todos os transformadores, transforme os dados e concatena os resultados\n",
        "X = ct.fit_transform(X).toarray()\n",
        "print(X)"
      ],
      "execution_count": null,
      "outputs": [
        {
          "output_type": "stream",
          "text": [
            "[[0.00e+00 0.00e+00 0.00e+00 ... 7.40e+01 7.40e+01 1.85e+03]\n",
            " [0.00e+00 0.00e+00 1.00e+00 ... 7.70e+01 8.80e+01 2.08e+03]\n",
            " [0.00e+00 0.00e+00 0.00e+00 ... 7.60e+01 8.90e+01 2.03e+03]\n",
            " ...\n",
            " [0.00e+00 0.00e+00 0.00e+00 ... 7.10e+01 8.40e+01 1.86e+03]\n",
            " [0.00e+00 0.00e+00 0.00e+00 ... 9.20e+01 9.20e+01 2.21e+03]\n",
            " [0.00e+00 0.00e+00 0.00e+00 ... 7.70e+01 8.70e+01 1.91e+03]]\n"
          ],
          "name": "stdout"
        }
      ]
    },
    {
      "cell_type": "markdown",
      "metadata": {
        "id": "tdrn3It9t1XZ"
      },
      "source": [
        "# **Taks 3 - Criar Machine Learning**"
      ]
    },
    {
      "cell_type": "code",
      "metadata": {
        "id": "dDo55Z2-EWE9"
      },
      "source": [
        "from sklearn.model_selection import train_test_split\n",
        "# realizar o treino e teste do modelo, com o treino de 20% e iniciando do estado randômico 0\n",
        "X_train, X_test, y_train, y_test = train_test_split(X, y, test_size=0.2, random_state=0)"
      ],
      "execution_count": null,
      "outputs": []
    },
    {
      "cell_type": "code",
      "metadata": {
        "id": "dpwVhA2hE2FS"
      },
      "source": [
        "# importando biblioteca para receber o modelo\n",
        "from sklearn.linear_model import LinearRegression\n",
        "regressor = LinearRegression()"
      ],
      "execution_count": null,
      "outputs": []
    },
    {
      "cell_type": "code",
      "metadata": {
        "colab": {
          "base_uri": "https://localhost:8080/"
        },
        "id": "empBjLZXGexo",
        "outputId": "f021ca44-914f-4919-d0fc-ad788f498bf3"
      },
      "source": [
        "# tranformar o modelo e realizar o ajuste\n",
        "regressor.fit(X_train, y_train)"
      ],
      "execution_count": null,
      "outputs": [
        {
          "output_type": "execute_result",
          "data": {
            "text/plain": [
              "LinearRegression(copy_X=True, fit_intercept=True, n_jobs=None, normalize=False)"
            ]
          },
          "metadata": {
            "tags": []
          },
          "execution_count": 45
        }
      ]
    },
    {
      "cell_type": "code",
      "metadata": {
        "colab": {
          "base_uri": "https://localhost:8080/"
        },
        "id": "lqPPSJcSG1ru",
        "outputId": "34bd8ea5-fc9f-4dfa-8d8c-40eda5641740"
      },
      "source": [
        "y_pred = regressor.predict(X_test)\n",
        "np.set_printoptions(precision=2)\n",
        "print(np.concatenate((y_pred.reshape(len(y_pred), 1), y_test.reshape(len(y_test), 1)), 1 ))"
      ],
      "execution_count": null,
      "outputs": [
        {
          "output_type": "stream",
          "text": [
            "[[-31374.29   2000.  ]\n",
            " [ 89799.46  61000.  ]\n",
            " [-25492.23    700.  ]\n",
            " [-10156.17    500.  ]\n",
            " [-39720.96    550.  ]\n",
            " [ 29629.11  59000.  ]\n",
            " [107316.38  50000.  ]\n",
            " [ 11883.07   6000.  ]\n",
            " [ 64194.43  30000.  ]\n",
            " [ -1605.65   8000.  ]\n",
            " [ 12891.78  17000.  ]\n",
            " [  6927.43  40000.  ]\n",
            " [ 32336.67   6000.  ]\n",
            " [  2466.23  13000.  ]\n",
            " [ 66892.02  95000.  ]\n",
            " [150854.84 210000.  ]\n",
            " [ 67655.23  75000.  ]\n",
            " [401869.46 220000.  ]\n",
            " [ -7915.01  60000.  ]\n",
            " [106051.47  61000.  ]\n",
            " [ 97784.04 110000.  ]\n",
            " [284900.61  55000.  ]\n",
            " [ 50144.37  23000.  ]\n",
            " [ 77406.35  17000.  ]]\n"
          ],
          "name": "stdout"
        }
      ]
    },
    {
      "cell_type": "code",
      "metadata": {
        "colab": {
          "base_uri": "https://localhost:8080/"
        },
        "id": "AhxEizIMIb5G",
        "outputId": "aa56970c-c695-425b-e254-e8ef0b785a5c"
      },
      "source": [
        "regressor.score(X_test, y_test)"
      ],
      "execution_count": null,
      "outputs": [
        {
          "output_type": "execute_result",
          "data": {
            "text/plain": [
              "-0.3933577613744008"
            ]
          },
          "metadata": {
            "tags": []
          },
          "execution_count": 47
        }
      ]
    },
    {
      "cell_type": "code",
      "metadata": {
        "id": "CZiPnNRXdWQJ"
      },
      "source": [
        "importancia = regressor.coef_"
      ],
      "execution_count": null,
      "outputs": []
    },
    {
      "cell_type": "code",
      "metadata": {
        "colab": {
          "base_uri": "https://localhost:8080/",
          "height": 588
        },
        "id": "-KAFyzPXdRdR",
        "outputId": "2fa79a25-ba5f-45e4-8f86-bd54db389464"
      },
      "source": [
        "for i, v, in enumerate(importancia):\n",
        "  print('Feature: %0d, Score: %.5f' % (i,v))\n",
        "\n",
        "plt.bar([x for x in range(len(importancia))], importancia)\n",
        "plt.show()"
      ],
      "execution_count": null,
      "outputs": [
        {
          "output_type": "stream",
          "text": [
            "Feature: 0, Score: 20901.84064\n",
            "Feature: 1, Score: -11848.60731\n",
            "Feature: 2, Score: -5328.76578\n",
            "Feature: 3, Score: -0.00000\n",
            "Feature: 4, Score: 20131.85624\n",
            "Feature: 5, Score: -104586.69412\n",
            "Feature: 6, Score: -17967.05955\n",
            "Feature: 7, Score: -638.67770\n",
            "Feature: 8, Score: 12706.83555\n",
            "Feature: 9, Score: 25375.33483\n",
            "Feature: 10, Score: 7836.43123\n",
            "Feature: 11, Score: 348.83282\n",
            "Feature: 12, Score: 30179.83117\n",
            "Feature: 13, Score: 21021.56149\n",
            "Feature: 14, Score: 1867.28049\n",
            "Feature: 15, Score: 21677.89965\n",
            "Feature: 16, Score: -525.90740\n",
            "Feature: 17, Score: 14337.88732\n",
            "Feature: 18, Score: -81.52167\n"
          ],
          "name": "stdout"
        },
        {
          "output_type": "display_data",
          "data": {
            "image/png": "[encoded data removed]",
            "text/plain": [
              "<Figure size 432x288 with 1 Axes>"
            ]
          },
          "metadata": {
            "tags": [],
            "needs_background": "light"
          }
        }
      ]
    },
    {
      "cell_type": "code",
      "metadata": {
        "colab": {
          "base_uri": "https://localhost:8080/",
          "height": 296
        },
        "id": "vXJ97auUeL6u",
        "outputId": "8ebf6636-24a3-454e-fafa-02c2c28b3885"
      },
      "source": [
        "sns.regplot(x='Potencial', y='Salario', data=dados)"
      ],
      "execution_count": null,
      "outputs": [
        {
          "output_type": "execute_result",
          "data": {
            "text/plain": [
              "<matplotlib.axes._subplots.AxesSubplot at 0x7ff1197ab358>"
            ]
          },
          "metadata": {
            "tags": []
          },
          "execution_count": 50
        },
        {
          "output_type": "display_data",
          "data": {
            "image/png": "[encoded data removed]",
            "text/plain": [
              "<Figure size 432x288 with 1 Axes>"
            ]
          },
          "metadata": {
            "tags": [],
            "needs_background": "light"
          }
        }
      ]
    },
    {
      "cell_type": "code",
      "metadata": {
        "colab": {
          "base_uri": "https://localhost:8080/",
          "height": 400
        },
        "id": "zK5xejMjeYnE",
        "outputId": "c8963772-4ac1-41c1-f57f-9d814bd97bb7"
      },
      "source": [
        "sns.lmplot(x='Media', y='Salario', data=dados, x_estimator=np.mean)"
      ],
      "execution_count": null,
      "outputs": [
        {
          "output_type": "execute_result",
          "data": {
            "text/plain": [
              "<seaborn.axisgrid.FacetGrid at 0x7ff1197835c0>"
            ]
          },
          "metadata": {
            "tags": []
          },
          "execution_count": 51
        },
        {
          "output_type": "display_data",
          "data": {
            "image/png": "[encoded data removed]",
            "text/plain": [
              "<Figure size 360x360 with 1 Axes>"
            ]
          },
          "metadata": {
            "tags": [],
            "needs_background": "light"
          }
        }
      ]
    },
    {
      "cell_type": "code",
      "metadata": {
        "colab": {
          "base_uri": "https://localhost:8080/",
          "height": 71
        },
        "id": "DH00d7nDenQd",
        "outputId": "c3be4464-3491-424e-ffa2-5e3798a445cd"
      },
      "source": [
        "sns.jointplot(x='Potencial', y='Salario', data=dados, kind='reg')"
      ],
      "execution_count": null,
      "outputs": [
        {
          "output_type": "execute_result",
          "data": {
            "text/plain": [
              "<seaborn.axisgrid.JointGrid at 0x7ff1196e2710>"
            ]
          },
          "metadata": {
            "tags": []
          },
          "execution_count": 52
        },
        {
          "output_type": "display_data",
          "data": {
            "image/png": "[encoded data removed]",
            "text/plain": [
              "<Figure size 432x432 with 3 Axes>"
            ]
          },
          "metadata": {
            "tags": [],
            "needs_background": "light"
          }
        }
      ]
    }
  ]
}