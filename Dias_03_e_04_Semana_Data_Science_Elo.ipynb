{
  "nbformat": 4,
  "nbformat_minor": 0,
  "metadata": {
    "colab": {
      "name": "Dias 03 e 04  - Semana_Data_Science_Elo",
      "provenance": [],
      "collapsed_sections": [],
      "toc_visible": true,
      "authorship_tag": "ABX9TyPSJ6v2wZW3bxXbJZ9PsWv1"
    },
    "kernelspec": {
      "name": "python3",
      "display_name": "Python 3"
    }
  },
  "cells": [
    {
      "cell_type": "markdown",
      "metadata": {
        "id": "NpklJVRPSldf"
      },
      "source": [
        "# **Taks 1 - Conhecer os dados**"
      ]
    },
    {
      "cell_type": "code",
      "metadata": {
        "id": "t2mkNMFBRx_m"
      },
      "source": [
        "# importando as bibliotecas\n",
        "import pandas  as pd\n",
        "\n",
        "import numpy as np\n",
        "\n",
        "import seaborn as sns\n",
        "\n",
        "import matplotlib.pyplot as plt\n"
      ],
      "execution_count": null,
      "outputs": []
    },
    {
      "cell_type": "code",
      "metadata": {
        "id": "GPyeligQuOxk"
      },
      "source": [
        "dados = pd.read_csv('sds_fifa.csv')"
      ],
      "execution_count": null,
      "outputs": []
    },
    {
      "cell_type": "code",
      "metadata": {
        "colab": {
          "base_uri": "https://localhost:8080/",
          "height": 391
        },
        "id": "1GmZ5FxpuXmG",
        "outputId": "d3b68028-17a1-4b5e-c2a9-de1b52903282"
      },
      "source": [
        "dados"
      ],
      "execution_count": null,
      "outputs": [
        {
          "output_type": "execute_result",
          "data": {
            "text/html": [
              "<div>\n",
              "<style scoped>\n",
              "    .dataframe tbody tr th:only-of-type {\n",
              "        vertical-align: middle;\n",
              "    }\n",
              "\n",
              "    .dataframe tbody tr th {\n",
              "        vertical-align: top;\n",
              "    }\n",
              "\n",
              "    .dataframe thead th {\n",
              "        text-align: right;\n",
              "    }\n",
              "</style>\n",
              "<table border=\"1\" class=\"dataframe\">\n",
              "  <thead>\n",
              "    <tr style=\"text-align: right;\">\n",
              "      <th></th>\n",
              "      <th>Unnamed: 0</th>\n",
              "      <th>Nome</th>\n",
              "      <th>Idade</th>\n",
              "      <th>Posicao</th>\n",
              "      <th>Media</th>\n",
              "      <th>Potencial</th>\n",
              "      <th>Time</th>\n",
              "      <th>Salario</th>\n",
              "      <th>Total_Pontos</th>\n",
              "    </tr>\n",
              "  </thead>\n",
              "  <tbody>\n",
              "    <tr>\n",
              "      <th>0</th>\n",
              "      <td>0</td>\n",
              "      <td>S. García</td>\n",
              "      <td>29</td>\n",
              "      <td>ST</td>\n",
              "      <td>74</td>\n",
              "      <td>74</td>\n",
              "      <td>Godoy Cruz</td>\n",
              "      <td>€12K</td>\n",
              "      <td>1847</td>\n",
              "    </tr>\n",
              "    <tr>\n",
              "      <th>1</th>\n",
              "      <td>1</td>\n",
              "      <td>S. Tonali</td>\n",
              "      <td>20</td>\n",
              "      <td>CDM</td>\n",
              "      <td>77</td>\n",
              "      <td>88</td>\n",
              "      <td>Milan</td>\n",
              "      <td>€25K</td>\n",
              "      <td>2082</td>\n",
              "    </tr>\n",
              "    <tr>\n",
              "      <th>2</th>\n",
              "      <td>2</td>\n",
              "      <td>R. Gravenberch</td>\n",
              "      <td>18</td>\n",
              "      <td>CM</td>\n",
              "      <td>76</td>\n",
              "      <td>89</td>\n",
              "      <td>Ajax</td>\n",
              "      <td>€6K</td>\n",
              "      <td>2033</td>\n",
              "    </tr>\n",
              "    <tr>\n",
              "      <th>3</th>\n",
              "      <td>3</td>\n",
              "      <td>M. Mohamed</td>\n",
              "      <td>22</td>\n",
              "      <td>ST</td>\n",
              "      <td>74</td>\n",
              "      <td>81</td>\n",
              "      <td>Galatasaray SK</td>\n",
              "      <td>€47K</td>\n",
              "      <td>1798</td>\n",
              "    </tr>\n",
              "    <tr>\n",
              "      <th>4</th>\n",
              "      <td>4</td>\n",
              "      <td>A. Diallo</td>\n",
              "      <td>17</td>\n",
              "      <td>RM</td>\n",
              "      <td>66</td>\n",
              "      <td>86</td>\n",
              "      <td>Manchester United</td>\n",
              "      <td>€3K</td>\n",
              "      <td>1518</td>\n",
              "    </tr>\n",
              "    <tr>\n",
              "      <th>...</th>\n",
              "      <td>...</td>\n",
              "      <td>...</td>\n",
              "      <td>...</td>\n",
              "      <td>...</td>\n",
              "      <td>...</td>\n",
              "      <td>...</td>\n",
              "      <td>...</td>\n",
              "      <td>...</td>\n",
              "      <td>...</td>\n",
              "    </tr>\n",
              "    <tr>\n",
              "      <th>2995</th>\n",
              "      <td>2995</td>\n",
              "      <td>A. Isak</td>\n",
              "      <td>20</td>\n",
              "      <td>ST</td>\n",
              "      <td>79</td>\n",
              "      <td>86</td>\n",
              "      <td>Real Sociedad</td>\n",
              "      <td>€28K</td>\n",
              "      <td>1874</td>\n",
              "    </tr>\n",
              "    <tr>\n",
              "      <th>2996</th>\n",
              "      <td>2996</td>\n",
              "      <td>N. Williams</td>\n",
              "      <td>19</td>\n",
              "      <td>RB</td>\n",
              "      <td>68</td>\n",
              "      <td>85</td>\n",
              "      <td>Liverpool</td>\n",
              "      <td>€13K</td>\n",
              "      <td>1675</td>\n",
              "    </tr>\n",
              "    <tr>\n",
              "      <th>2997</th>\n",
              "      <td>2997</td>\n",
              "      <td>B. Gilmour</td>\n",
              "      <td>19</td>\n",
              "      <td>CM</td>\n",
              "      <td>71</td>\n",
              "      <td>86</td>\n",
              "      <td>Chelsea</td>\n",
              "      <td>€25K</td>\n",
              "      <td>1812</td>\n",
              "    </tr>\n",
              "    <tr>\n",
              "      <th>2998</th>\n",
              "      <td>2998</td>\n",
              "      <td>L. Messi</td>\n",
              "      <td>33</td>\n",
              "      <td>RW</td>\n",
              "      <td>93</td>\n",
              "      <td>93</td>\n",
              "      <td>FC Barcelona</td>\n",
              "      <td>€560K</td>\n",
              "      <td>2231</td>\n",
              "    </tr>\n",
              "    <tr>\n",
              "      <th>2999</th>\n",
              "      <td>2999</td>\n",
              "      <td>A. Gómez</td>\n",
              "      <td>32</td>\n",
              "      <td>CAM</td>\n",
              "      <td>86</td>\n",
              "      <td>86</td>\n",
              "      <td>Sevilla FC</td>\n",
              "      <td>€55K</td>\n",
              "      <td>2075</td>\n",
              "    </tr>\n",
              "  </tbody>\n",
              "</table>\n",
              "<p>3000 rows × 9 columns</p>\n",
              "</div>"
            ],
            "text/plain": [
              "      Unnamed: 0             Nome  ...  Salario Total_Pontos\n",
              "0              0        S. García  ...     €12K         1847\n",
              "1              1        S. Tonali  ...     €25K         2082\n",
              "2              2   R. Gravenberch  ...      €6K         2033\n",
              "3              3       M. Mohamed  ...     €47K         1798\n",
              "4              4        A. Diallo  ...      €3K         1518\n",
              "...          ...              ...  ...      ...          ...\n",
              "2995        2995          A. Isak  ...     €28K         1874\n",
              "2996        2996      N. Williams  ...     €13K         1675\n",
              "2997        2997       B. Gilmour  ...     €25K         1812\n",
              "2998        2998         L. Messi  ...    €560K         2231\n",
              "2999        2999         A. Gómez  ...     €55K         2075\n",
              "\n",
              "[3000 rows x 9 columns]"
            ]
          },
          "metadata": {
            "tags": []
          },
          "execution_count": 422
        }
      ]
    },
    {
      "cell_type": "code",
      "metadata": {
        "id": "jGDr4hyEFdIs"
      },
      "source": [
        "# excluir coluna 'Unnamed:0'\n",
        "dados.drop('Unnamed: 0', axis=1, inplace=True)"
      ],
      "execution_count": null,
      "outputs": []
    },
    {
      "cell_type": "code",
      "metadata": {
        "colab": {
          "base_uri": "https://localhost:8080/",
          "height": 191
        },
        "id": "6oxAt4O3dTt9",
        "outputId": "1bb69e8a-1944-4fc2-9670-1db0f2ff46f9"
      },
      "source": [
        "# pegar o cabeçalho\n",
        "dados.head()\n"
      ],
      "execution_count": null,
      "outputs": [
        {
          "output_type": "execute_result",
          "data": {
            "text/html": [
              "<div>\n",
              "<style scoped>\n",
              "    .dataframe tbody tr th:only-of-type {\n",
              "        vertical-align: middle;\n",
              "    }\n",
              "\n",
              "    .dataframe tbody tr th {\n",
              "        vertical-align: top;\n",
              "    }\n",
              "\n",
              "    .dataframe thead th {\n",
              "        text-align: right;\n",
              "    }\n",
              "</style>\n",
              "<table border=\"1\" class=\"dataframe\">\n",
              "  <thead>\n",
              "    <tr style=\"text-align: right;\">\n",
              "      <th></th>\n",
              "      <th>Nome</th>\n",
              "      <th>Idade</th>\n",
              "      <th>Posicao</th>\n",
              "      <th>Media</th>\n",
              "      <th>Potencial</th>\n",
              "      <th>Time</th>\n",
              "      <th>Salario</th>\n",
              "      <th>Total_Pontos</th>\n",
              "    </tr>\n",
              "  </thead>\n",
              "  <tbody>\n",
              "    <tr>\n",
              "      <th>0</th>\n",
              "      <td>S. García</td>\n",
              "      <td>29</td>\n",
              "      <td>ST</td>\n",
              "      <td>74</td>\n",
              "      <td>74</td>\n",
              "      <td>Godoy Cruz</td>\n",
              "      <td>€12K</td>\n",
              "      <td>1847</td>\n",
              "    </tr>\n",
              "    <tr>\n",
              "      <th>1</th>\n",
              "      <td>S. Tonali</td>\n",
              "      <td>20</td>\n",
              "      <td>CDM</td>\n",
              "      <td>77</td>\n",
              "      <td>88</td>\n",
              "      <td>Milan</td>\n",
              "      <td>€25K</td>\n",
              "      <td>2082</td>\n",
              "    </tr>\n",
              "    <tr>\n",
              "      <th>2</th>\n",
              "      <td>R. Gravenberch</td>\n",
              "      <td>18</td>\n",
              "      <td>CM</td>\n",
              "      <td>76</td>\n",
              "      <td>89</td>\n",
              "      <td>Ajax</td>\n",
              "      <td>€6K</td>\n",
              "      <td>2033</td>\n",
              "    </tr>\n",
              "    <tr>\n",
              "      <th>3</th>\n",
              "      <td>M. Mohamed</td>\n",
              "      <td>22</td>\n",
              "      <td>ST</td>\n",
              "      <td>74</td>\n",
              "      <td>81</td>\n",
              "      <td>Galatasaray SK</td>\n",
              "      <td>€47K</td>\n",
              "      <td>1798</td>\n",
              "    </tr>\n",
              "    <tr>\n",
              "      <th>4</th>\n",
              "      <td>A. Diallo</td>\n",
              "      <td>17</td>\n",
              "      <td>RM</td>\n",
              "      <td>66</td>\n",
              "      <td>86</td>\n",
              "      <td>Manchester United</td>\n",
              "      <td>€3K</td>\n",
              "      <td>1518</td>\n",
              "    </tr>\n",
              "  </tbody>\n",
              "</table>\n",
              "</div>"
            ],
            "text/plain": [
              "              Nome  Idade Posicao  ...               Time  Salario Total_Pontos\n",
              "0        S. García     29      ST  ...         Godoy Cruz     €12K         1847\n",
              "1        S. Tonali     20     CDM  ...              Milan     €25K         2082\n",
              "2   R. Gravenberch     18      CM  ...               Ajax      €6K         2033\n",
              "3       M. Mohamed     22      ST  ...     Galatasaray SK     €47K         1798\n",
              "4        A. Diallo     17      RM  ...  Manchester United      €3K         1518\n",
              "\n",
              "[5 rows x 8 columns]"
            ]
          },
          "metadata": {
            "tags": []
          },
          "execution_count": 424
        }
      ]
    },
    {
      "cell_type": "code",
      "metadata": {
        "id": "WT1TIXMEGBst"
      },
      "source": [
        ""
      ],
      "execution_count": null,
      "outputs": []
    },
    {
      "cell_type": "code",
      "metadata": {
        "colab": {
          "base_uri": "https://localhost:8080/",
          "height": 191
        },
        "id": "KrX-hMc_dzAo",
        "outputId": "0c6cd71a-6ea0-4848-8f44-051844b4139f"
      },
      "source": [
        "# pega os últimos dados\n",
        "dados.tail()"
      ],
      "execution_count": null,
      "outputs": [
        {
          "output_type": "execute_result",
          "data": {
            "text/html": [
              "<div>\n",
              "<style scoped>\n",
              "    .dataframe tbody tr th:only-of-type {\n",
              "        vertical-align: middle;\n",
              "    }\n",
              "\n",
              "    .dataframe tbody tr th {\n",
              "        vertical-align: top;\n",
              "    }\n",
              "\n",
              "    .dataframe thead th {\n",
              "        text-align: right;\n",
              "    }\n",
              "</style>\n",
              "<table border=\"1\" class=\"dataframe\">\n",
              "  <thead>\n",
              "    <tr style=\"text-align: right;\">\n",
              "      <th></th>\n",
              "      <th>Nome</th>\n",
              "      <th>Idade</th>\n",
              "      <th>Posicao</th>\n",
              "      <th>Media</th>\n",
              "      <th>Potencial</th>\n",
              "      <th>Time</th>\n",
              "      <th>Salario</th>\n",
              "      <th>Total_Pontos</th>\n",
              "    </tr>\n",
              "  </thead>\n",
              "  <tbody>\n",
              "    <tr>\n",
              "      <th>2995</th>\n",
              "      <td>A. Isak</td>\n",
              "      <td>20</td>\n",
              "      <td>ST</td>\n",
              "      <td>79</td>\n",
              "      <td>86</td>\n",
              "      <td>Real Sociedad</td>\n",
              "      <td>€28K</td>\n",
              "      <td>1874</td>\n",
              "    </tr>\n",
              "    <tr>\n",
              "      <th>2996</th>\n",
              "      <td>N. Williams</td>\n",
              "      <td>19</td>\n",
              "      <td>RB</td>\n",
              "      <td>68</td>\n",
              "      <td>85</td>\n",
              "      <td>Liverpool</td>\n",
              "      <td>€13K</td>\n",
              "      <td>1675</td>\n",
              "    </tr>\n",
              "    <tr>\n",
              "      <th>2997</th>\n",
              "      <td>B. Gilmour</td>\n",
              "      <td>19</td>\n",
              "      <td>CM</td>\n",
              "      <td>71</td>\n",
              "      <td>86</td>\n",
              "      <td>Chelsea</td>\n",
              "      <td>€25K</td>\n",
              "      <td>1812</td>\n",
              "    </tr>\n",
              "    <tr>\n",
              "      <th>2998</th>\n",
              "      <td>L. Messi</td>\n",
              "      <td>33</td>\n",
              "      <td>RW</td>\n",
              "      <td>93</td>\n",
              "      <td>93</td>\n",
              "      <td>FC Barcelona</td>\n",
              "      <td>€560K</td>\n",
              "      <td>2231</td>\n",
              "    </tr>\n",
              "    <tr>\n",
              "      <th>2999</th>\n",
              "      <td>A. Gómez</td>\n",
              "      <td>32</td>\n",
              "      <td>CAM</td>\n",
              "      <td>86</td>\n",
              "      <td>86</td>\n",
              "      <td>Sevilla FC</td>\n",
              "      <td>€55K</td>\n",
              "      <td>2075</td>\n",
              "    </tr>\n",
              "  </tbody>\n",
              "</table>\n",
              "</div>"
            ],
            "text/plain": [
              "              Nome  Idade Posicao  ...           Time  Salario Total_Pontos\n",
              "2995       A. Isak     20      ST  ...  Real Sociedad     €28K         1874\n",
              "2996   N. Williams     19      RB  ...      Liverpool     €13K         1675\n",
              "2997    B. Gilmour     19      CM  ...        Chelsea     €25K         1812\n",
              "2998      L. Messi     33      RW  ...   FC Barcelona    €560K         2231\n",
              "2999      A. Gómez     32     CAM  ...     Sevilla FC     €55K         2075\n",
              "\n",
              "[5 rows x 8 columns]"
            ]
          },
          "metadata": {
            "tags": []
          },
          "execution_count": 425
        }
      ]
    },
    {
      "cell_type": "code",
      "metadata": {
        "colab": {
          "base_uri": "https://localhost:8080/",
          "height": 335
        },
        "id": "vDwclhBdeMCW",
        "outputId": "c3385475-39d6-415d-83a6-8e8f03bac28c"
      },
      "source": [
        "# pegar amostra aleatória \n",
        "dados.sample(10)"
      ],
      "execution_count": null,
      "outputs": [
        {
          "output_type": "execute_result",
          "data": {
            "text/html": [
              "<div>\n",
              "<style scoped>\n",
              "    .dataframe tbody tr th:only-of-type {\n",
              "        vertical-align: middle;\n",
              "    }\n",
              "\n",
              "    .dataframe tbody tr th {\n",
              "        vertical-align: top;\n",
              "    }\n",
              "\n",
              "    .dataframe thead th {\n",
              "        text-align: right;\n",
              "    }\n",
              "</style>\n",
              "<table border=\"1\" class=\"dataframe\">\n",
              "  <thead>\n",
              "    <tr style=\"text-align: right;\">\n",
              "      <th></th>\n",
              "      <th>Nome</th>\n",
              "      <th>Idade</th>\n",
              "      <th>Posicao</th>\n",
              "      <th>Media</th>\n",
              "      <th>Potencial</th>\n",
              "      <th>Time</th>\n",
              "      <th>Salario</th>\n",
              "      <th>Total_Pontos</th>\n",
              "    </tr>\n",
              "  </thead>\n",
              "  <tbody>\n",
              "    <tr>\n",
              "      <th>1705</th>\n",
              "      <td>Pedro Gonçalves</td>\n",
              "      <td>22</td>\n",
              "      <td>RW</td>\n",
              "      <td>79</td>\n",
              "      <td>87</td>\n",
              "      <td>Sporting CP</td>\n",
              "      <td>€16K</td>\n",
              "      <td>2021</td>\n",
              "    </tr>\n",
              "    <tr>\n",
              "      <th>1989</th>\n",
              "      <td>D. Calvert-Lewin</td>\n",
              "      <td>23</td>\n",
              "      <td>ST</td>\n",
              "      <td>81</td>\n",
              "      <td>87</td>\n",
              "      <td>Everton</td>\n",
              "      <td>€90K</td>\n",
              "      <td>1966</td>\n",
              "    </tr>\n",
              "    <tr>\n",
              "      <th>1033</th>\n",
              "      <td>E. Camavinga</td>\n",
              "      <td>17</td>\n",
              "      <td>CM</td>\n",
              "      <td>78</td>\n",
              "      <td>89</td>\n",
              "      <td>Stade Rennais FC</td>\n",
              "      <td>€6K</td>\n",
              "      <td>2086</td>\n",
              "    </tr>\n",
              "    <tr>\n",
              "      <th>904</th>\n",
              "      <td>A. Diallo</td>\n",
              "      <td>17</td>\n",
              "      <td>RM</td>\n",
              "      <td>66</td>\n",
              "      <td>86</td>\n",
              "      <td>Manchester United</td>\n",
              "      <td>€3K</td>\n",
              "      <td>1518</td>\n",
              "    </tr>\n",
              "    <tr>\n",
              "      <th>1817</th>\n",
              "      <td>Ansu Fati</td>\n",
              "      <td>17</td>\n",
              "      <td>LW</td>\n",
              "      <td>76</td>\n",
              "      <td>90</td>\n",
              "      <td>FC Barcelona</td>\n",
              "      <td>€24K</td>\n",
              "      <td>1817</td>\n",
              "    </tr>\n",
              "    <tr>\n",
              "      <th>819</th>\n",
              "      <td>V. van Dijk</td>\n",
              "      <td>28</td>\n",
              "      <td>CB</td>\n",
              "      <td>90</td>\n",
              "      <td>91</td>\n",
              "      <td>Liverpool</td>\n",
              "      <td>€210K</td>\n",
              "      <td>2109</td>\n",
              "    </tr>\n",
              "    <tr>\n",
              "      <th>2362</th>\n",
              "      <td>Pedro Neto</td>\n",
              "      <td>20</td>\n",
              "      <td>LW</td>\n",
              "      <td>77</td>\n",
              "      <td>85</td>\n",
              "      <td>Wolverhampton Wanderers</td>\n",
              "      <td>€59K</td>\n",
              "      <td>1797</td>\n",
              "    </tr>\n",
              "    <tr>\n",
              "      <th>1528</th>\n",
              "      <td>K. Adeyemi</td>\n",
              "      <td>18</td>\n",
              "      <td>ST</td>\n",
              "      <td>69</td>\n",
              "      <td>86</td>\n",
              "      <td>FC Red Bull Salzburg</td>\n",
              "      <td>€6K</td>\n",
              "      <td>1750</td>\n",
              "    </tr>\n",
              "    <tr>\n",
              "      <th>2583</th>\n",
              "      <td>M. Mohamed</td>\n",
              "      <td>22</td>\n",
              "      <td>ST</td>\n",
              "      <td>74</td>\n",
              "      <td>81</td>\n",
              "      <td>Galatasaray SK</td>\n",
              "      <td>€47K</td>\n",
              "      <td>1798</td>\n",
              "    </tr>\n",
              "    <tr>\n",
              "      <th>962</th>\n",
              "      <td>R. Gravenberch</td>\n",
              "      <td>18</td>\n",
              "      <td>CM</td>\n",
              "      <td>76</td>\n",
              "      <td>89</td>\n",
              "      <td>Ajax</td>\n",
              "      <td>€6K</td>\n",
              "      <td>2033</td>\n",
              "    </tr>\n",
              "  </tbody>\n",
              "</table>\n",
              "</div>"
            ],
            "text/plain": [
              "                   Nome  Idade  ... Salario  Total_Pontos\n",
              "1705    Pedro Gonçalves     22  ...    €16K          2021\n",
              "1989   D. Calvert-Lewin     23  ...    €90K          1966\n",
              "1033       E. Camavinga     17  ...     €6K          2086\n",
              "904           A. Diallo     17  ...     €3K          1518\n",
              "1817          Ansu Fati     17  ...    €24K          1817\n",
              "819         V. van Dijk     28  ...   €210K          2109\n",
              "2362         Pedro Neto     20  ...    €59K          1797\n",
              "1528         K. Adeyemi     18  ...     €6K          1750\n",
              "2583         M. Mohamed     22  ...    €47K          1798\n",
              "962      R. Gravenberch     18  ...     €6K          2033\n",
              "\n",
              "[10 rows x 8 columns]"
            ]
          },
          "metadata": {
            "tags": []
          },
          "execution_count": 426
        }
      ]
    },
    {
      "cell_type": "code",
      "metadata": {
        "colab": {
          "base_uri": "https://localhost:8080/"
        },
        "id": "Apa-gHwheniw",
        "outputId": "72b3b9c0-7984-4a0d-e01e-9721e2dd87a1"
      },
      "source": [
        "# informações dos dados\n",
        "dados.info()"
      ],
      "execution_count": null,
      "outputs": [
        {
          "output_type": "stream",
          "text": [
            "<class 'pandas.core.frame.DataFrame'>\n",
            "RangeIndex: 3000 entries, 0 to 2999\n",
            "Data columns (total 8 columns):\n",
            " #   Column        Non-Null Count  Dtype \n",
            "---  ------        --------------  ----- \n",
            " 0   Nome          3000 non-null   object\n",
            " 1   Idade         3000 non-null   int64 \n",
            " 2   Posicao       3000 non-null   object\n",
            " 3   Media         3000 non-null   int64 \n",
            " 4   Potencial     3000 non-null   int64 \n",
            " 5   Time          3000 non-null   object\n",
            " 6   Salario       3000 non-null   object\n",
            " 7   Total_Pontos  3000 non-null   int64 \n",
            "dtypes: int64(4), object(4)\n",
            "memory usage: 187.6+ KB\n"
          ],
          "name": "stdout"
        }
      ]
    },
    {
      "cell_type": "markdown",
      "metadata": {
        "id": "6frQ6-DySBE8"
      },
      "source": [
        "# **Taks 2 - Transformar/Processar os nossos dados**"
      ]
    },
    {
      "cell_type": "code",
      "metadata": {
        "id": "eV5k25aamxgU"
      },
      "source": [
        "dados['Salario'] = dados['Salario'].str.replace('€', '')"
      ],
      "execution_count": null,
      "outputs": []
    },
    {
      "cell_type": "code",
      "metadata": {
        "colab": {
          "base_uri": "https://localhost:8080/",
          "height": 191
        },
        "id": "RNdBTcmBnHeH",
        "outputId": "5de4f2f2-4f70-4d60-f5b3-6bdfe37fbd5c"
      },
      "source": [
        "dados.sample(5)"
      ],
      "execution_count": null,
      "outputs": [
        {
          "output_type": "execute_result",
          "data": {
            "text/html": [
              "<div>\n",
              "<style scoped>\n",
              "    .dataframe tbody tr th:only-of-type {\n",
              "        vertical-align: middle;\n",
              "    }\n",
              "\n",
              "    .dataframe tbody tr th {\n",
              "        vertical-align: top;\n",
              "    }\n",
              "\n",
              "    .dataframe thead th {\n",
              "        text-align: right;\n",
              "    }\n",
              "</style>\n",
              "<table border=\"1\" class=\"dataframe\">\n",
              "  <thead>\n",
              "    <tr style=\"text-align: right;\">\n",
              "      <th></th>\n",
              "      <th>Nome</th>\n",
              "      <th>Idade</th>\n",
              "      <th>Posicao</th>\n",
              "      <th>Media</th>\n",
              "      <th>Potencial</th>\n",
              "      <th>Time</th>\n",
              "      <th>Salario</th>\n",
              "      <th>Total_Pontos</th>\n",
              "    </tr>\n",
              "  </thead>\n",
              "  <tbody>\n",
              "    <tr>\n",
              "      <th>549</th>\n",
              "      <td>D. Calvert-Lewin</td>\n",
              "      <td>23</td>\n",
              "      <td>ST</td>\n",
              "      <td>81</td>\n",
              "      <td>87</td>\n",
              "      <td>Everton</td>\n",
              "      <td>90K</td>\n",
              "      <td>1966</td>\n",
              "    </tr>\n",
              "    <tr>\n",
              "      <th>1616</th>\n",
              "      <td>N. Williams</td>\n",
              "      <td>19</td>\n",
              "      <td>RB</td>\n",
              "      <td>68</td>\n",
              "      <td>85</td>\n",
              "      <td>Liverpool</td>\n",
              "      <td>13K</td>\n",
              "      <td>1675</td>\n",
              "    </tr>\n",
              "    <tr>\n",
              "      <th>2149</th>\n",
              "      <td>D. Núñez</td>\n",
              "      <td>21</td>\n",
              "      <td>ST</td>\n",
              "      <td>76</td>\n",
              "      <td>87</td>\n",
              "      <td>SL Benfica</td>\n",
              "      <td>11K</td>\n",
              "      <td>1905</td>\n",
              "    </tr>\n",
              "    <tr>\n",
              "      <th>2007</th>\n",
              "      <td>E. Haaland</td>\n",
              "      <td>19</td>\n",
              "      <td>ST</td>\n",
              "      <td>86</td>\n",
              "      <td>92</td>\n",
              "      <td>Borussia Dortmund</td>\n",
              "      <td>67K</td>\n",
              "      <td>2051</td>\n",
              "    </tr>\n",
              "    <tr>\n",
              "      <th>2803</th>\n",
              "      <td>Cristiano Ronaldo</td>\n",
              "      <td>35</td>\n",
              "      <td>ST</td>\n",
              "      <td>92</td>\n",
              "      <td>92</td>\n",
              "      <td>Juventus</td>\n",
              "      <td>220K</td>\n",
              "      <td>2221</td>\n",
              "    </tr>\n",
              "  </tbody>\n",
              "</table>\n",
              "</div>"
            ],
            "text/plain": [
              "                    Nome  Idade  ... Salario  Total_Pontos\n",
              "549     D. Calvert-Lewin     23  ...     90K          1966\n",
              "1616         N. Williams     19  ...     13K          1675\n",
              "2149            D. Núñez     21  ...     11K          1905\n",
              "2007          E. Haaland     19  ...     67K          2051\n",
              "2803   Cristiano Ronaldo     35  ...    220K          2221\n",
              "\n",
              "[5 rows x 8 columns]"
            ]
          },
          "metadata": {
            "tags": []
          },
          "execution_count": 429
        }
      ]
    },
    {
      "cell_type": "code",
      "metadata": {
        "id": "F9YA4vdgnMdj"
      },
      "source": [
        "# eliminar os dados vazios\n",
        "dados = dados.dropna()"
      ],
      "execution_count": null,
      "outputs": []
    },
    {
      "cell_type": "code",
      "metadata": {
        "colab": {
          "base_uri": "https://localhost:8080/",
          "height": 191
        },
        "id": "cK8k6afTnXDn",
        "outputId": "1948ec4d-fc4a-4679-a97a-70e2d62bb21a"
      },
      "source": [
        "dados.sample(5)"
      ],
      "execution_count": null,
      "outputs": [
        {
          "output_type": "execute_result",
          "data": {
            "text/html": [
              "<div>\n",
              "<style scoped>\n",
              "    .dataframe tbody tr th:only-of-type {\n",
              "        vertical-align: middle;\n",
              "    }\n",
              "\n",
              "    .dataframe tbody tr th {\n",
              "        vertical-align: top;\n",
              "    }\n",
              "\n",
              "    .dataframe thead th {\n",
              "        text-align: right;\n",
              "    }\n",
              "</style>\n",
              "<table border=\"1\" class=\"dataframe\">\n",
              "  <thead>\n",
              "    <tr style=\"text-align: right;\">\n",
              "      <th></th>\n",
              "      <th>Nome</th>\n",
              "      <th>Idade</th>\n",
              "      <th>Posicao</th>\n",
              "      <th>Media</th>\n",
              "      <th>Potencial</th>\n",
              "      <th>Time</th>\n",
              "      <th>Salario</th>\n",
              "      <th>Total_Pontos</th>\n",
              "    </tr>\n",
              "  </thead>\n",
              "  <tbody>\n",
              "    <tr>\n",
              "      <th>2953</th>\n",
              "      <td>E. Camavinga</td>\n",
              "      <td>17</td>\n",
              "      <td>CM</td>\n",
              "      <td>78</td>\n",
              "      <td>89</td>\n",
              "      <td>Stade Rennais FC</td>\n",
              "      <td>6K</td>\n",
              "      <td>2086</td>\n",
              "    </tr>\n",
              "    <tr>\n",
              "      <th>187</th>\n",
              "      <td>T. Souček</td>\n",
              "      <td>25</td>\n",
              "      <td>CDM</td>\n",
              "      <td>82</td>\n",
              "      <td>86</td>\n",
              "      <td>West Ham United</td>\n",
              "      <td>50K</td>\n",
              "      <td>2096</td>\n",
              "    </tr>\n",
              "    <tr>\n",
              "      <th>1403</th>\n",
              "      <td>R. Cherki</td>\n",
              "      <td>16</td>\n",
              "      <td>RW</td>\n",
              "      <td>69</td>\n",
              "      <td>88</td>\n",
              "      <td>Olympique Lyonnais</td>\n",
              "      <td>6K</td>\n",
              "      <td>1622</td>\n",
              "    </tr>\n",
              "    <tr>\n",
              "      <th>2500</th>\n",
              "      <td>D. Upamecano</td>\n",
              "      <td>21</td>\n",
              "      <td>CB</td>\n",
              "      <td>81</td>\n",
              "      <td>90</td>\n",
              "      <td>RB Leipzig</td>\n",
              "      <td>41K</td>\n",
              "      <td>1841</td>\n",
              "    </tr>\n",
              "    <tr>\n",
              "      <th>226</th>\n",
              "      <td>Nuno Tavares</td>\n",
              "      <td>20</td>\n",
              "      <td>LB</td>\n",
              "      <td>73</td>\n",
              "      <td>86</td>\n",
              "      <td>SL Benfica</td>\n",
              "      <td>7K</td>\n",
              "      <td>1900</td>\n",
              "    </tr>\n",
              "  </tbody>\n",
              "</table>\n",
              "</div>"
            ],
            "text/plain": [
              "               Nome  Idade Posicao  ...                Time  Salario Total_Pontos\n",
              "2953   E. Camavinga     17      CM  ...    Stade Rennais FC       6K         2086\n",
              "187       T. Souček     25     CDM  ...     West Ham United      50K         2096\n",
              "1403      R. Cherki     16      RW  ...  Olympique Lyonnais       6K         1622\n",
              "2500   D. Upamecano     21      CB  ...          RB Leipzig      41K         1841\n",
              "226    Nuno Tavares     20      LB  ...          SL Benfica       7K         1900\n",
              "\n",
              "[5 rows x 8 columns]"
            ]
          },
          "metadata": {
            "tags": []
          },
          "execution_count": 431
        }
      ]
    },
    {
      "cell_type": "code",
      "metadata": {
        "colab": {
          "base_uri": "https://localhost:8080/"
        },
        "id": "buEfCCINnr-P",
        "outputId": "c118f71f-90e3-476e-e4f7-97b1ad9880d9"
      },
      "source": [
        "# obter os valores únicos\n",
        "dados['Salario'].unique()"
      ],
      "execution_count": null,
      "outputs": [
        {
          "output_type": "execute_result",
          "data": {
            "text/plain": [
              "array(['12K', '25K', '6K', '47K', '3K', '42K', '4K', '50K', '500', '90K',\n",
              "       '14K', '240K', '5K', '16K', '23K', '24K', '7K', '100K', '59K',\n",
              "       '17K', '2K', '67K', '75K', '74K', '82K', '40K', '33K', '135K',\n",
              "       '210K', '41K', '9K', '220K', '30K', '27K', '11K', '28K', '13K',\n",
              "       '560K', '55K', '10K', '95K', '110K', '115K', '20K', '45K', '1K',\n",
              "       '44K', '160K', '150K', '61K', '46K', '34K', '29K', '62K', '76K',\n",
              "       '58K', '8K', '77K', '700', '550', '38K', '18K', '49K', '60K',\n",
              "       '650', '270K'], dtype=object)"
            ]
          },
          "metadata": {
            "tags": []
          },
          "execution_count": 432
        }
      ]
    },
    {
      "cell_type": "code",
      "metadata": {
        "colab": {
          "base_uri": "https://localhost:8080/"
        },
        "id": "aOpkyEGnn2Bv",
        "outputId": "66726e53-6558-46d5-bf7d-d0d75e4bdbdf"
      },
      "source": [
        "# obter a quantidade de valores únicos\n",
        "dados['Salario'].nunique()"
      ],
      "execution_count": null,
      "outputs": [
        {
          "output_type": "execute_result",
          "data": {
            "text/plain": [
              "66"
            ]
          },
          "metadata": {
            "tags": []
          },
          "execution_count": 433
        }
      ]
    },
    {
      "cell_type": "code",
      "metadata": {
        "id": "lfsu6fRenss5"
      },
      "source": [
        "dados['Salario'] = dados['Salario'].str.replace('K', '000')"
      ],
      "execution_count": null,
      "outputs": []
    },
    {
      "cell_type": "code",
      "metadata": {
        "colab": {
          "base_uri": "https://localhost:8080/",
          "height": 391
        },
        "id": "u1TbtwPhoxJU",
        "outputId": "e10e9117-0e04-486e-a848-958ee181a172"
      },
      "source": [
        "dados"
      ],
      "execution_count": null,
      "outputs": [
        {
          "output_type": "execute_result",
          "data": {
            "text/html": [
              "<div>\n",
              "<style scoped>\n",
              "    .dataframe tbody tr th:only-of-type {\n",
              "        vertical-align: middle;\n",
              "    }\n",
              "\n",
              "    .dataframe tbody tr th {\n",
              "        vertical-align: top;\n",
              "    }\n",
              "\n",
              "    .dataframe thead th {\n",
              "        text-align: right;\n",
              "    }\n",
              "</style>\n",
              "<table border=\"1\" class=\"dataframe\">\n",
              "  <thead>\n",
              "    <tr style=\"text-align: right;\">\n",
              "      <th></th>\n",
              "      <th>Nome</th>\n",
              "      <th>Idade</th>\n",
              "      <th>Posicao</th>\n",
              "      <th>Media</th>\n",
              "      <th>Potencial</th>\n",
              "      <th>Time</th>\n",
              "      <th>Salario</th>\n",
              "      <th>Total_Pontos</th>\n",
              "    </tr>\n",
              "  </thead>\n",
              "  <tbody>\n",
              "    <tr>\n",
              "      <th>0</th>\n",
              "      <td>S. García</td>\n",
              "      <td>29</td>\n",
              "      <td>ST</td>\n",
              "      <td>74</td>\n",
              "      <td>74</td>\n",
              "      <td>Godoy Cruz</td>\n",
              "      <td>12000</td>\n",
              "      <td>1847</td>\n",
              "    </tr>\n",
              "    <tr>\n",
              "      <th>1</th>\n",
              "      <td>S. Tonali</td>\n",
              "      <td>20</td>\n",
              "      <td>CDM</td>\n",
              "      <td>77</td>\n",
              "      <td>88</td>\n",
              "      <td>Milan</td>\n",
              "      <td>25000</td>\n",
              "      <td>2082</td>\n",
              "    </tr>\n",
              "    <tr>\n",
              "      <th>2</th>\n",
              "      <td>R. Gravenberch</td>\n",
              "      <td>18</td>\n",
              "      <td>CM</td>\n",
              "      <td>76</td>\n",
              "      <td>89</td>\n",
              "      <td>Ajax</td>\n",
              "      <td>6000</td>\n",
              "      <td>2033</td>\n",
              "    </tr>\n",
              "    <tr>\n",
              "      <th>3</th>\n",
              "      <td>M. Mohamed</td>\n",
              "      <td>22</td>\n",
              "      <td>ST</td>\n",
              "      <td>74</td>\n",
              "      <td>81</td>\n",
              "      <td>Galatasaray SK</td>\n",
              "      <td>47000</td>\n",
              "      <td>1798</td>\n",
              "    </tr>\n",
              "    <tr>\n",
              "      <th>4</th>\n",
              "      <td>A. Diallo</td>\n",
              "      <td>17</td>\n",
              "      <td>RM</td>\n",
              "      <td>66</td>\n",
              "      <td>86</td>\n",
              "      <td>Manchester United</td>\n",
              "      <td>3000</td>\n",
              "      <td>1518</td>\n",
              "    </tr>\n",
              "    <tr>\n",
              "      <th>...</th>\n",
              "      <td>...</td>\n",
              "      <td>...</td>\n",
              "      <td>...</td>\n",
              "      <td>...</td>\n",
              "      <td>...</td>\n",
              "      <td>...</td>\n",
              "      <td>...</td>\n",
              "      <td>...</td>\n",
              "    </tr>\n",
              "    <tr>\n",
              "      <th>2995</th>\n",
              "      <td>A. Isak</td>\n",
              "      <td>20</td>\n",
              "      <td>ST</td>\n",
              "      <td>79</td>\n",
              "      <td>86</td>\n",
              "      <td>Real Sociedad</td>\n",
              "      <td>28000</td>\n",
              "      <td>1874</td>\n",
              "    </tr>\n",
              "    <tr>\n",
              "      <th>2996</th>\n",
              "      <td>N. Williams</td>\n",
              "      <td>19</td>\n",
              "      <td>RB</td>\n",
              "      <td>68</td>\n",
              "      <td>85</td>\n",
              "      <td>Liverpool</td>\n",
              "      <td>13000</td>\n",
              "      <td>1675</td>\n",
              "    </tr>\n",
              "    <tr>\n",
              "      <th>2997</th>\n",
              "      <td>B. Gilmour</td>\n",
              "      <td>19</td>\n",
              "      <td>CM</td>\n",
              "      <td>71</td>\n",
              "      <td>86</td>\n",
              "      <td>Chelsea</td>\n",
              "      <td>25000</td>\n",
              "      <td>1812</td>\n",
              "    </tr>\n",
              "    <tr>\n",
              "      <th>2998</th>\n",
              "      <td>L. Messi</td>\n",
              "      <td>33</td>\n",
              "      <td>RW</td>\n",
              "      <td>93</td>\n",
              "      <td>93</td>\n",
              "      <td>FC Barcelona</td>\n",
              "      <td>560000</td>\n",
              "      <td>2231</td>\n",
              "    </tr>\n",
              "    <tr>\n",
              "      <th>2999</th>\n",
              "      <td>A. Gómez</td>\n",
              "      <td>32</td>\n",
              "      <td>CAM</td>\n",
              "      <td>86</td>\n",
              "      <td>86</td>\n",
              "      <td>Sevilla FC</td>\n",
              "      <td>55000</td>\n",
              "      <td>2075</td>\n",
              "    </tr>\n",
              "  </tbody>\n",
              "</table>\n",
              "<p>3000 rows × 8 columns</p>\n",
              "</div>"
            ],
            "text/plain": [
              "                 Nome  Idade Posicao  ...               Time  Salario Total_Pontos\n",
              "0           S. García     29      ST  ...         Godoy Cruz    12000         1847\n",
              "1           S. Tonali     20     CDM  ...              Milan    25000         2082\n",
              "2      R. Gravenberch     18      CM  ...               Ajax     6000         2033\n",
              "3          M. Mohamed     22      ST  ...     Galatasaray SK    47000         1798\n",
              "4           A. Diallo     17      RM  ...  Manchester United     3000         1518\n",
              "...               ...    ...     ...  ...                ...      ...          ...\n",
              "2995          A. Isak     20      ST  ...      Real Sociedad    28000         1874\n",
              "2996      N. Williams     19      RB  ...          Liverpool    13000         1675\n",
              "2997       B. Gilmour     19      CM  ...            Chelsea    25000         1812\n",
              "2998         L. Messi     33      RW  ...       FC Barcelona   560000         2231\n",
              "2999         A. Gómez     32     CAM  ...         Sevilla FC    55000         2075\n",
              "\n",
              "[3000 rows x 8 columns]"
            ]
          },
          "metadata": {
            "tags": []
          },
          "execution_count": 435
        }
      ]
    },
    {
      "cell_type": "code",
      "metadata": {
        "colab": {
          "base_uri": "https://localhost:8080/"
        },
        "id": "LIRmnowxpQxk",
        "outputId": "c252493e-d72c-42fe-b8a5-b3e7a4503ada"
      },
      "source": [
        "dados.info()"
      ],
      "execution_count": null,
      "outputs": [
        {
          "output_type": "stream",
          "text": [
            "<class 'pandas.core.frame.DataFrame'>\n",
            "Int64Index: 3000 entries, 0 to 2999\n",
            "Data columns (total 8 columns):\n",
            " #   Column        Non-Null Count  Dtype \n",
            "---  ------        --------------  ----- \n",
            " 0   Nome          3000 non-null   object\n",
            " 1   Idade         3000 non-null   int64 \n",
            " 2   Posicao       3000 non-null   object\n",
            " 3   Media         3000 non-null   int64 \n",
            " 4   Potencial     3000 non-null   int64 \n",
            " 5   Time          3000 non-null   object\n",
            " 6   Salario       3000 non-null   object\n",
            " 7   Total_Pontos  3000 non-null   int64 \n",
            "dtypes: int64(4), object(4)\n",
            "memory usage: 210.9+ KB\n"
          ],
          "name": "stdout"
        }
      ]
    },
    {
      "cell_type": "code",
      "metadata": {
        "id": "TR9HaWPFpahe"
      },
      "source": [
        "dados['Salario'] = dados['Salario'].astype(str).astype(int)"
      ],
      "execution_count": null,
      "outputs": []
    },
    {
      "cell_type": "code",
      "metadata": {
        "colab": {
          "base_uri": "https://localhost:8080/"
        },
        "id": "MKVngwiRpa6A",
        "outputId": "46f391b6-fb36-40ad-f208-e27af10b5515"
      },
      "source": [
        "dados.info()"
      ],
      "execution_count": null,
      "outputs": [
        {
          "output_type": "stream",
          "text": [
            "<class 'pandas.core.frame.DataFrame'>\n",
            "Int64Index: 3000 entries, 0 to 2999\n",
            "Data columns (total 8 columns):\n",
            " #   Column        Non-Null Count  Dtype \n",
            "---  ------        --------------  ----- \n",
            " 0   Nome          3000 non-null   object\n",
            " 1   Idade         3000 non-null   int64 \n",
            " 2   Posicao       3000 non-null   object\n",
            " 3   Media         3000 non-null   int64 \n",
            " 4   Potencial     3000 non-null   int64 \n",
            " 5   Time          3000 non-null   object\n",
            " 6   Salario       3000 non-null   int64 \n",
            " 7   Total_Pontos  3000 non-null   int64 \n",
            "dtypes: int64(5), object(3)\n",
            "memory usage: 210.9+ KB\n"
          ],
          "name": "stdout"
        }
      ]
    },
    {
      "cell_type": "code",
      "metadata": {
        "colab": {
          "base_uri": "https://localhost:8080/",
          "height": 191
        },
        "id": "-fChzboJpvj-",
        "outputId": "a52e21c0-bdeb-484e-8399-8bdc707f2807"
      },
      "source": [
        "dados.describe().T"
      ],
      "execution_count": null,
      "outputs": [
        {
          "output_type": "execute_result",
          "data": {
            "text/html": [
              "<div>\n",
              "<style scoped>\n",
              "    .dataframe tbody tr th:only-of-type {\n",
              "        vertical-align: middle;\n",
              "    }\n",
              "\n",
              "    .dataframe tbody tr th {\n",
              "        vertical-align: top;\n",
              "    }\n",
              "\n",
              "    .dataframe thead th {\n",
              "        text-align: right;\n",
              "    }\n",
              "</style>\n",
              "<table border=\"1\" class=\"dataframe\">\n",
              "  <thead>\n",
              "    <tr style=\"text-align: right;\">\n",
              "      <th></th>\n",
              "      <th>count</th>\n",
              "      <th>mean</th>\n",
              "      <th>std</th>\n",
              "      <th>min</th>\n",
              "      <th>25%</th>\n",
              "      <th>50%</th>\n",
              "      <th>75%</th>\n",
              "      <th>max</th>\n",
              "    </tr>\n",
              "  </thead>\n",
              "  <tbody>\n",
              "    <tr>\n",
              "      <th>Idade</th>\n",
              "      <td>3000.0</td>\n",
              "      <td>20.799333</td>\n",
              "      <td>3.990452</td>\n",
              "      <td>16.0</td>\n",
              "      <td>18.0</td>\n",
              "      <td>20.0</td>\n",
              "      <td>22.0</td>\n",
              "      <td>35.0</td>\n",
              "    </tr>\n",
              "    <tr>\n",
              "      <th>Media</th>\n",
              "      <td>3000.0</td>\n",
              "      <td>76.881333</td>\n",
              "      <td>6.121362</td>\n",
              "      <td>60.0</td>\n",
              "      <td>74.0</td>\n",
              "      <td>76.0</td>\n",
              "      <td>81.0</td>\n",
              "      <td>93.0</td>\n",
              "    </tr>\n",
              "    <tr>\n",
              "      <th>Potencial</th>\n",
              "      <td>3000.0</td>\n",
              "      <td>86.580333</td>\n",
              "      <td>3.225991</td>\n",
              "      <td>74.0</td>\n",
              "      <td>85.0</td>\n",
              "      <td>87.0</td>\n",
              "      <td>88.0</td>\n",
              "      <td>95.0</td>\n",
              "    </tr>\n",
              "    <tr>\n",
              "      <th>Salario</th>\n",
              "      <td>3000.0</td>\n",
              "      <td>47723.966667</td>\n",
              "      <td>83157.566127</td>\n",
              "      <td>500.0</td>\n",
              "      <td>7000.0</td>\n",
              "      <td>25000.0</td>\n",
              "      <td>50000.0</td>\n",
              "      <td>560000.0</td>\n",
              "    </tr>\n",
              "    <tr>\n",
              "      <th>Total_Pontos</th>\n",
              "      <td>3000.0</td>\n",
              "      <td>1908.217333</td>\n",
              "      <td>166.767381</td>\n",
              "      <td>911.0</td>\n",
              "      <td>1815.0</td>\n",
              "      <td>1905.0</td>\n",
              "      <td>2014.0</td>\n",
              "      <td>2336.0</td>\n",
              "    </tr>\n",
              "  </tbody>\n",
              "</table>\n",
              "</div>"
            ],
            "text/plain": [
              "               count          mean           std  ...      50%      75%       max\n",
              "Idade         3000.0     20.799333      3.990452  ...     20.0     22.0      35.0\n",
              "Media         3000.0     76.881333      6.121362  ...     76.0     81.0      93.0\n",
              "Potencial     3000.0     86.580333      3.225991  ...     87.0     88.0      95.0\n",
              "Salario       3000.0  47723.966667  83157.566127  ...  25000.0  50000.0  560000.0\n",
              "Total_Pontos  3000.0   1908.217333    166.767381  ...   1905.0   2014.0    2336.0\n",
              "\n",
              "[5 rows x 8 columns]"
            ]
          },
          "metadata": {
            "tags": []
          },
          "execution_count": 439
        }
      ]
    },
    {
      "cell_type": "code",
      "metadata": {
        "colab": {
          "base_uri": "https://localhost:8080/",
          "height": 277
        },
        "id": "xCAnOQFBk_yr",
        "outputId": "e41d36d5-b4ee-4134-adb2-d5fb98a1f72b"
      },
      "source": [
        "# tirar as informações númericas\n",
        "dados.describe()"
      ],
      "execution_count": null,
      "outputs": [
        {
          "output_type": "execute_result",
          "data": {
            "text/html": [
              "<div>\n",
              "<style scoped>\n",
              "    .dataframe tbody tr th:only-of-type {\n",
              "        vertical-align: middle;\n",
              "    }\n",
              "\n",
              "    .dataframe tbody tr th {\n",
              "        vertical-align: top;\n",
              "    }\n",
              "\n",
              "    .dataframe thead th {\n",
              "        text-align: right;\n",
              "    }\n",
              "</style>\n",
              "<table border=\"1\" class=\"dataframe\">\n",
              "  <thead>\n",
              "    <tr style=\"text-align: right;\">\n",
              "      <th></th>\n",
              "      <th>Idade</th>\n",
              "      <th>Media</th>\n",
              "      <th>Potencial</th>\n",
              "      <th>Salario</th>\n",
              "      <th>Total_Pontos</th>\n",
              "    </tr>\n",
              "  </thead>\n",
              "  <tbody>\n",
              "    <tr>\n",
              "      <th>count</th>\n",
              "      <td>3000.000000</td>\n",
              "      <td>3000.000000</td>\n",
              "      <td>3000.000000</td>\n",
              "      <td>3000.000000</td>\n",
              "      <td>3000.000000</td>\n",
              "    </tr>\n",
              "    <tr>\n",
              "      <th>mean</th>\n",
              "      <td>20.799333</td>\n",
              "      <td>76.881333</td>\n",
              "      <td>86.580333</td>\n",
              "      <td>47723.966667</td>\n",
              "      <td>1908.217333</td>\n",
              "    </tr>\n",
              "    <tr>\n",
              "      <th>std</th>\n",
              "      <td>3.990452</td>\n",
              "      <td>6.121362</td>\n",
              "      <td>3.225991</td>\n",
              "      <td>83157.566127</td>\n",
              "      <td>166.767381</td>\n",
              "    </tr>\n",
              "    <tr>\n",
              "      <th>min</th>\n",
              "      <td>16.000000</td>\n",
              "      <td>60.000000</td>\n",
              "      <td>74.000000</td>\n",
              "      <td>500.000000</td>\n",
              "      <td>911.000000</td>\n",
              "    </tr>\n",
              "    <tr>\n",
              "      <th>25%</th>\n",
              "      <td>18.000000</td>\n",
              "      <td>74.000000</td>\n",
              "      <td>85.000000</td>\n",
              "      <td>7000.000000</td>\n",
              "      <td>1815.000000</td>\n",
              "    </tr>\n",
              "    <tr>\n",
              "      <th>50%</th>\n",
              "      <td>20.000000</td>\n",
              "      <td>76.000000</td>\n",
              "      <td>87.000000</td>\n",
              "      <td>25000.000000</td>\n",
              "      <td>1905.000000</td>\n",
              "    </tr>\n",
              "    <tr>\n",
              "      <th>75%</th>\n",
              "      <td>22.000000</td>\n",
              "      <td>81.000000</td>\n",
              "      <td>88.000000</td>\n",
              "      <td>50000.000000</td>\n",
              "      <td>2014.000000</td>\n",
              "    </tr>\n",
              "    <tr>\n",
              "      <th>max</th>\n",
              "      <td>35.000000</td>\n",
              "      <td>93.000000</td>\n",
              "      <td>95.000000</td>\n",
              "      <td>560000.000000</td>\n",
              "      <td>2336.000000</td>\n",
              "    </tr>\n",
              "  </tbody>\n",
              "</table>\n",
              "</div>"
            ],
            "text/plain": [
              "             Idade        Media    Potencial        Salario  Total_Pontos\n",
              "count  3000.000000  3000.000000  3000.000000    3000.000000   3000.000000\n",
              "mean     20.799333    76.881333    86.580333   47723.966667   1908.217333\n",
              "std       3.990452     6.121362     3.225991   83157.566127    166.767381\n",
              "min      16.000000    60.000000    74.000000     500.000000    911.000000\n",
              "25%      18.000000    74.000000    85.000000    7000.000000   1815.000000\n",
              "50%      20.000000    76.000000    87.000000   25000.000000   1905.000000\n",
              "75%      22.000000    81.000000    88.000000   50000.000000   2014.000000\n",
              "max      35.000000    93.000000    95.000000  560000.000000   2336.000000"
            ]
          },
          "metadata": {
            "tags": []
          },
          "execution_count": 440
        }
      ]
    },
    {
      "cell_type": "code",
      "metadata": {
        "colab": {
          "base_uri": "https://localhost:8080/",
          "height": 191
        },
        "id": "-4ITk10QmXHc",
        "outputId": "e1cc3f38-2df9-4854-fbdf-13bdbac03e84"
      },
      "source": [
        "dados.describe().T"
      ],
      "execution_count": null,
      "outputs": [
        {
          "output_type": "execute_result",
          "data": {
            "text/html": [
              "<div>\n",
              "<style scoped>\n",
              "    .dataframe tbody tr th:only-of-type {\n",
              "        vertical-align: middle;\n",
              "    }\n",
              "\n",
              "    .dataframe tbody tr th {\n",
              "        vertical-align: top;\n",
              "    }\n",
              "\n",
              "    .dataframe thead th {\n",
              "        text-align: right;\n",
              "    }\n",
              "</style>\n",
              "<table border=\"1\" class=\"dataframe\">\n",
              "  <thead>\n",
              "    <tr style=\"text-align: right;\">\n",
              "      <th></th>\n",
              "      <th>count</th>\n",
              "      <th>mean</th>\n",
              "      <th>std</th>\n",
              "      <th>min</th>\n",
              "      <th>25%</th>\n",
              "      <th>50%</th>\n",
              "      <th>75%</th>\n",
              "      <th>max</th>\n",
              "    </tr>\n",
              "  </thead>\n",
              "  <tbody>\n",
              "    <tr>\n",
              "      <th>Idade</th>\n",
              "      <td>3000.0</td>\n",
              "      <td>20.799333</td>\n",
              "      <td>3.990452</td>\n",
              "      <td>16.0</td>\n",
              "      <td>18.0</td>\n",
              "      <td>20.0</td>\n",
              "      <td>22.0</td>\n",
              "      <td>35.0</td>\n",
              "    </tr>\n",
              "    <tr>\n",
              "      <th>Media</th>\n",
              "      <td>3000.0</td>\n",
              "      <td>76.881333</td>\n",
              "      <td>6.121362</td>\n",
              "      <td>60.0</td>\n",
              "      <td>74.0</td>\n",
              "      <td>76.0</td>\n",
              "      <td>81.0</td>\n",
              "      <td>93.0</td>\n",
              "    </tr>\n",
              "    <tr>\n",
              "      <th>Potencial</th>\n",
              "      <td>3000.0</td>\n",
              "      <td>86.580333</td>\n",
              "      <td>3.225991</td>\n",
              "      <td>74.0</td>\n",
              "      <td>85.0</td>\n",
              "      <td>87.0</td>\n",
              "      <td>88.0</td>\n",
              "      <td>95.0</td>\n",
              "    </tr>\n",
              "    <tr>\n",
              "      <th>Salario</th>\n",
              "      <td>3000.0</td>\n",
              "      <td>47723.966667</td>\n",
              "      <td>83157.566127</td>\n",
              "      <td>500.0</td>\n",
              "      <td>7000.0</td>\n",
              "      <td>25000.0</td>\n",
              "      <td>50000.0</td>\n",
              "      <td>560000.0</td>\n",
              "    </tr>\n",
              "    <tr>\n",
              "      <th>Total_Pontos</th>\n",
              "      <td>3000.0</td>\n",
              "      <td>1908.217333</td>\n",
              "      <td>166.767381</td>\n",
              "      <td>911.0</td>\n",
              "      <td>1815.0</td>\n",
              "      <td>1905.0</td>\n",
              "      <td>2014.0</td>\n",
              "      <td>2336.0</td>\n",
              "    </tr>\n",
              "  </tbody>\n",
              "</table>\n",
              "</div>"
            ],
            "text/plain": [
              "               count          mean           std  ...      50%      75%       max\n",
              "Idade         3000.0     20.799333      3.990452  ...     20.0     22.0      35.0\n",
              "Media         3000.0     76.881333      6.121362  ...     76.0     81.0      93.0\n",
              "Potencial     3000.0     86.580333      3.225991  ...     87.0     88.0      95.0\n",
              "Salario       3000.0  47723.966667  83157.566127  ...  25000.0  50000.0  560000.0\n",
              "Total_Pontos  3000.0   1908.217333    166.767381  ...   1905.0   2014.0    2336.0\n",
              "\n",
              "[5 rows x 8 columns]"
            ]
          },
          "metadata": {
            "tags": []
          },
          "execution_count": 441
        }
      ]
    },
    {
      "cell_type": "markdown",
      "metadata": {
        "id": "18uyZymQSeHx"
      },
      "source": [
        "# **Taks 3 - Responder algumas perguntas**"
      ]
    },
    {
      "cell_type": "markdown",
      "metadata": {
        "id": "Qgx09_jhr8jM"
      },
      "source": [
        "Quem é o jogador mais novo? E quem é o mais Velho?"
      ]
    },
    {
      "cell_type": "code",
      "metadata": {
        "colab": {
          "base_uri": "https://localhost:8080/"
        },
        "id": "Z3y6poGusmjm",
        "outputId": "65e99887-659d-4927-f67d-7cda0d637044"
      },
      "source": [
        "dados['Idade'].min()"
      ],
      "execution_count": null,
      "outputs": [
        {
          "output_type": "execute_result",
          "data": {
            "text/plain": [
              "16"
            ]
          },
          "metadata": {
            "tags": []
          },
          "execution_count": 442
        }
      ]
    },
    {
      "cell_type": "code",
      "metadata": {
        "colab": {
          "base_uri": "https://localhost:8080/",
          "height": 1000
        },
        "id": "HfqvAJDWsoXr",
        "outputId": "e1cdb6e1-bc3a-4544-a445-54a1cbe384f6"
      },
      "source": [
        "dados[dados['Idade']==16]"
      ],
      "execution_count": null,
      "outputs": [
        {
          "output_type": "execute_result",
          "data": {
            "text/html": [
              "<div>\n",
              "<style scoped>\n",
              "    .dataframe tbody tr th:only-of-type {\n",
              "        vertical-align: middle;\n",
              "    }\n",
              "\n",
              "    .dataframe tbody tr th {\n",
              "        vertical-align: top;\n",
              "    }\n",
              "\n",
              "    .dataframe thead th {\n",
              "        text-align: right;\n",
              "    }\n",
              "</style>\n",
              "<table border=\"1\" class=\"dataframe\">\n",
              "  <thead>\n",
              "    <tr style=\"text-align: right;\">\n",
              "      <th></th>\n",
              "      <th>Nome</th>\n",
              "      <th>Idade</th>\n",
              "      <th>Posicao</th>\n",
              "      <th>Media</th>\n",
              "      <th>Potencial</th>\n",
              "      <th>Time</th>\n",
              "      <th>Salario</th>\n",
              "      <th>Total_Pontos</th>\n",
              "    </tr>\n",
              "  </thead>\n",
              "  <tbody>\n",
              "    <tr>\n",
              "      <th>23</th>\n",
              "      <td>R. Cherki</td>\n",
              "      <td>16</td>\n",
              "      <td>RW</td>\n",
              "      <td>69</td>\n",
              "      <td>88</td>\n",
              "      <td>Olympique Lyonnais</td>\n",
              "      <td>6000</td>\n",
              "      <td>1622</td>\n",
              "    </tr>\n",
              "    <tr>\n",
              "      <th>143</th>\n",
              "      <td>R. Cherki</td>\n",
              "      <td>16</td>\n",
              "      <td>RW</td>\n",
              "      <td>69</td>\n",
              "      <td>88</td>\n",
              "      <td>Olympique Lyonnais</td>\n",
              "      <td>6000</td>\n",
              "      <td>1622</td>\n",
              "    </tr>\n",
              "    <tr>\n",
              "      <th>203</th>\n",
              "      <td>R. Cherki</td>\n",
              "      <td>16</td>\n",
              "      <td>RW</td>\n",
              "      <td>69</td>\n",
              "      <td>88</td>\n",
              "      <td>Olympique Lyonnais</td>\n",
              "      <td>6000</td>\n",
              "      <td>1622</td>\n",
              "    </tr>\n",
              "    <tr>\n",
              "      <th>263</th>\n",
              "      <td>R. Cherki</td>\n",
              "      <td>16</td>\n",
              "      <td>RW</td>\n",
              "      <td>69</td>\n",
              "      <td>88</td>\n",
              "      <td>Olympique Lyonnais</td>\n",
              "      <td>6000</td>\n",
              "      <td>1622</td>\n",
              "    </tr>\n",
              "    <tr>\n",
              "      <th>323</th>\n",
              "      <td>R. Cherki</td>\n",
              "      <td>16</td>\n",
              "      <td>RW</td>\n",
              "      <td>69</td>\n",
              "      <td>88</td>\n",
              "      <td>Olympique Lyonnais</td>\n",
              "      <td>6000</td>\n",
              "      <td>1622</td>\n",
              "    </tr>\n",
              "    <tr>\n",
              "      <th>383</th>\n",
              "      <td>R. Cherki</td>\n",
              "      <td>16</td>\n",
              "      <td>RW</td>\n",
              "      <td>69</td>\n",
              "      <td>88</td>\n",
              "      <td>Olympique Lyonnais</td>\n",
              "      <td>6000</td>\n",
              "      <td>1622</td>\n",
              "    </tr>\n",
              "    <tr>\n",
              "      <th>443</th>\n",
              "      <td>R. Cherki</td>\n",
              "      <td>16</td>\n",
              "      <td>RW</td>\n",
              "      <td>69</td>\n",
              "      <td>88</td>\n",
              "      <td>Olympique Lyonnais</td>\n",
              "      <td>6000</td>\n",
              "      <td>1622</td>\n",
              "    </tr>\n",
              "    <tr>\n",
              "      <th>503</th>\n",
              "      <td>R. Cherki</td>\n",
              "      <td>16</td>\n",
              "      <td>RW</td>\n",
              "      <td>69</td>\n",
              "      <td>88</td>\n",
              "      <td>Olympique Lyonnais</td>\n",
              "      <td>6000</td>\n",
              "      <td>1622</td>\n",
              "    </tr>\n",
              "    <tr>\n",
              "      <th>563</th>\n",
              "      <td>R. Cherki</td>\n",
              "      <td>16</td>\n",
              "      <td>RW</td>\n",
              "      <td>69</td>\n",
              "      <td>88</td>\n",
              "      <td>Olympique Lyonnais</td>\n",
              "      <td>6000</td>\n",
              "      <td>1622</td>\n",
              "    </tr>\n",
              "    <tr>\n",
              "      <th>623</th>\n",
              "      <td>R. Cherki</td>\n",
              "      <td>16</td>\n",
              "      <td>RW</td>\n",
              "      <td>69</td>\n",
              "      <td>88</td>\n",
              "      <td>Olympique Lyonnais</td>\n",
              "      <td>6000</td>\n",
              "      <td>1622</td>\n",
              "    </tr>\n",
              "    <tr>\n",
              "      <th>683</th>\n",
              "      <td>R. Cherki</td>\n",
              "      <td>16</td>\n",
              "      <td>RW</td>\n",
              "      <td>69</td>\n",
              "      <td>88</td>\n",
              "      <td>Olympique Lyonnais</td>\n",
              "      <td>6000</td>\n",
              "      <td>1622</td>\n",
              "    </tr>\n",
              "    <tr>\n",
              "      <th>743</th>\n",
              "      <td>R. Cherki</td>\n",
              "      <td>16</td>\n",
              "      <td>RW</td>\n",
              "      <td>69</td>\n",
              "      <td>88</td>\n",
              "      <td>Olympique Lyonnais</td>\n",
              "      <td>6000</td>\n",
              "      <td>1622</td>\n",
              "    </tr>\n",
              "    <tr>\n",
              "      <th>803</th>\n",
              "      <td>R. Cherki</td>\n",
              "      <td>16</td>\n",
              "      <td>RW</td>\n",
              "      <td>69</td>\n",
              "      <td>88</td>\n",
              "      <td>Olympique Lyonnais</td>\n",
              "      <td>6000</td>\n",
              "      <td>1622</td>\n",
              "    </tr>\n",
              "    <tr>\n",
              "      <th>863</th>\n",
              "      <td>R. Cherki</td>\n",
              "      <td>16</td>\n",
              "      <td>RW</td>\n",
              "      <td>69</td>\n",
              "      <td>88</td>\n",
              "      <td>Olympique Lyonnais</td>\n",
              "      <td>6000</td>\n",
              "      <td>1622</td>\n",
              "    </tr>\n",
              "    <tr>\n",
              "      <th>923</th>\n",
              "      <td>R. Cherki</td>\n",
              "      <td>16</td>\n",
              "      <td>RW</td>\n",
              "      <td>69</td>\n",
              "      <td>88</td>\n",
              "      <td>Olympique Lyonnais</td>\n",
              "      <td>6000</td>\n",
              "      <td>1622</td>\n",
              "    </tr>\n",
              "    <tr>\n",
              "      <th>983</th>\n",
              "      <td>R. Cherki</td>\n",
              "      <td>16</td>\n",
              "      <td>RW</td>\n",
              "      <td>69</td>\n",
              "      <td>88</td>\n",
              "      <td>Olympique Lyonnais</td>\n",
              "      <td>6000</td>\n",
              "      <td>1622</td>\n",
              "    </tr>\n",
              "    <tr>\n",
              "      <th>1043</th>\n",
              "      <td>R. Cherki</td>\n",
              "      <td>16</td>\n",
              "      <td>RW</td>\n",
              "      <td>69</td>\n",
              "      <td>88</td>\n",
              "      <td>Olympique Lyonnais</td>\n",
              "      <td>6000</td>\n",
              "      <td>1622</td>\n",
              "    </tr>\n",
              "    <tr>\n",
              "      <th>1103</th>\n",
              "      <td>R. Cherki</td>\n",
              "      <td>16</td>\n",
              "      <td>RW</td>\n",
              "      <td>69</td>\n",
              "      <td>88</td>\n",
              "      <td>Olympique Lyonnais</td>\n",
              "      <td>6000</td>\n",
              "      <td>1622</td>\n",
              "    </tr>\n",
              "    <tr>\n",
              "      <th>1163</th>\n",
              "      <td>R. Cherki</td>\n",
              "      <td>16</td>\n",
              "      <td>RW</td>\n",
              "      <td>69</td>\n",
              "      <td>88</td>\n",
              "      <td>Olympique Lyonnais</td>\n",
              "      <td>6000</td>\n",
              "      <td>1622</td>\n",
              "    </tr>\n",
              "    <tr>\n",
              "      <th>1223</th>\n",
              "      <td>R. Cherki</td>\n",
              "      <td>16</td>\n",
              "      <td>RW</td>\n",
              "      <td>69</td>\n",
              "      <td>88</td>\n",
              "      <td>Olympique Lyonnais</td>\n",
              "      <td>6000</td>\n",
              "      <td>1622</td>\n",
              "    </tr>\n",
              "    <tr>\n",
              "      <th>1283</th>\n",
              "      <td>R. Cherki</td>\n",
              "      <td>16</td>\n",
              "      <td>RW</td>\n",
              "      <td>69</td>\n",
              "      <td>88</td>\n",
              "      <td>Olympique Lyonnais</td>\n",
              "      <td>6000</td>\n",
              "      <td>1622</td>\n",
              "    </tr>\n",
              "    <tr>\n",
              "      <th>1343</th>\n",
              "      <td>R. Cherki</td>\n",
              "      <td>16</td>\n",
              "      <td>RW</td>\n",
              "      <td>69</td>\n",
              "      <td>88</td>\n",
              "      <td>Olympique Lyonnais</td>\n",
              "      <td>6000</td>\n",
              "      <td>1622</td>\n",
              "    </tr>\n",
              "    <tr>\n",
              "      <th>1403</th>\n",
              "      <td>R. Cherki</td>\n",
              "      <td>16</td>\n",
              "      <td>RW</td>\n",
              "      <td>69</td>\n",
              "      <td>88</td>\n",
              "      <td>Olympique Lyonnais</td>\n",
              "      <td>6000</td>\n",
              "      <td>1622</td>\n",
              "    </tr>\n",
              "    <tr>\n",
              "      <th>1463</th>\n",
              "      <td>R. Cherki</td>\n",
              "      <td>16</td>\n",
              "      <td>RW</td>\n",
              "      <td>69</td>\n",
              "      <td>88</td>\n",
              "      <td>Olympique Lyonnais</td>\n",
              "      <td>6000</td>\n",
              "      <td>1622</td>\n",
              "    </tr>\n",
              "    <tr>\n",
              "      <th>1523</th>\n",
              "      <td>R. Cherki</td>\n",
              "      <td>16</td>\n",
              "      <td>RW</td>\n",
              "      <td>69</td>\n",
              "      <td>88</td>\n",
              "      <td>Olympique Lyonnais</td>\n",
              "      <td>6000</td>\n",
              "      <td>1622</td>\n",
              "    </tr>\n",
              "    <tr>\n",
              "      <th>1583</th>\n",
              "      <td>R. Cherki</td>\n",
              "      <td>16</td>\n",
              "      <td>RW</td>\n",
              "      <td>69</td>\n",
              "      <td>88</td>\n",
              "      <td>Olympique Lyonnais</td>\n",
              "      <td>6000</td>\n",
              "      <td>1622</td>\n",
              "    </tr>\n",
              "    <tr>\n",
              "      <th>1643</th>\n",
              "      <td>R. Cherki</td>\n",
              "      <td>16</td>\n",
              "      <td>RW</td>\n",
              "      <td>69</td>\n",
              "      <td>88</td>\n",
              "      <td>Olympique Lyonnais</td>\n",
              "      <td>6000</td>\n",
              "      <td>1622</td>\n",
              "    </tr>\n",
              "    <tr>\n",
              "      <th>1703</th>\n",
              "      <td>R. Cherki</td>\n",
              "      <td>16</td>\n",
              "      <td>RW</td>\n",
              "      <td>69</td>\n",
              "      <td>88</td>\n",
              "      <td>Olympique Lyonnais</td>\n",
              "      <td>6000</td>\n",
              "      <td>1622</td>\n",
              "    </tr>\n",
              "    <tr>\n",
              "      <th>1763</th>\n",
              "      <td>R. Cherki</td>\n",
              "      <td>16</td>\n",
              "      <td>RW</td>\n",
              "      <td>69</td>\n",
              "      <td>88</td>\n",
              "      <td>Olympique Lyonnais</td>\n",
              "      <td>6000</td>\n",
              "      <td>1622</td>\n",
              "    </tr>\n",
              "    <tr>\n",
              "      <th>1823</th>\n",
              "      <td>R. Cherki</td>\n",
              "      <td>16</td>\n",
              "      <td>RW</td>\n",
              "      <td>69</td>\n",
              "      <td>88</td>\n",
              "      <td>Olympique Lyonnais</td>\n",
              "      <td>6000</td>\n",
              "      <td>1622</td>\n",
              "    </tr>\n",
              "    <tr>\n",
              "      <th>1883</th>\n",
              "      <td>R. Cherki</td>\n",
              "      <td>16</td>\n",
              "      <td>RW</td>\n",
              "      <td>69</td>\n",
              "      <td>88</td>\n",
              "      <td>Olympique Lyonnais</td>\n",
              "      <td>6000</td>\n",
              "      <td>1622</td>\n",
              "    </tr>\n",
              "    <tr>\n",
              "      <th>1943</th>\n",
              "      <td>R. Cherki</td>\n",
              "      <td>16</td>\n",
              "      <td>RW</td>\n",
              "      <td>69</td>\n",
              "      <td>88</td>\n",
              "      <td>Olympique Lyonnais</td>\n",
              "      <td>6000</td>\n",
              "      <td>1622</td>\n",
              "    </tr>\n",
              "    <tr>\n",
              "      <th>2003</th>\n",
              "      <td>R. Cherki</td>\n",
              "      <td>16</td>\n",
              "      <td>RW</td>\n",
              "      <td>69</td>\n",
              "      <td>88</td>\n",
              "      <td>Olympique Lyonnais</td>\n",
              "      <td>6000</td>\n",
              "      <td>1622</td>\n",
              "    </tr>\n",
              "    <tr>\n",
              "      <th>2063</th>\n",
              "      <td>R. Cherki</td>\n",
              "      <td>16</td>\n",
              "      <td>RW</td>\n",
              "      <td>69</td>\n",
              "      <td>88</td>\n",
              "      <td>Olympique Lyonnais</td>\n",
              "      <td>6000</td>\n",
              "      <td>1622</td>\n",
              "    </tr>\n",
              "    <tr>\n",
              "      <th>2123</th>\n",
              "      <td>R. Cherki</td>\n",
              "      <td>16</td>\n",
              "      <td>RW</td>\n",
              "      <td>69</td>\n",
              "      <td>88</td>\n",
              "      <td>Olympique Lyonnais</td>\n",
              "      <td>6000</td>\n",
              "      <td>1622</td>\n",
              "    </tr>\n",
              "    <tr>\n",
              "      <th>2183</th>\n",
              "      <td>R. Cherki</td>\n",
              "      <td>16</td>\n",
              "      <td>RW</td>\n",
              "      <td>69</td>\n",
              "      <td>88</td>\n",
              "      <td>Olympique Lyonnais</td>\n",
              "      <td>6000</td>\n",
              "      <td>1622</td>\n",
              "    </tr>\n",
              "    <tr>\n",
              "      <th>2243</th>\n",
              "      <td>R. Cherki</td>\n",
              "      <td>16</td>\n",
              "      <td>RW</td>\n",
              "      <td>69</td>\n",
              "      <td>88</td>\n",
              "      <td>Olympique Lyonnais</td>\n",
              "      <td>6000</td>\n",
              "      <td>1622</td>\n",
              "    </tr>\n",
              "    <tr>\n",
              "      <th>2303</th>\n",
              "      <td>R. Cherki</td>\n",
              "      <td>16</td>\n",
              "      <td>RW</td>\n",
              "      <td>69</td>\n",
              "      <td>88</td>\n",
              "      <td>Olympique Lyonnais</td>\n",
              "      <td>6000</td>\n",
              "      <td>1622</td>\n",
              "    </tr>\n",
              "    <tr>\n",
              "      <th>2363</th>\n",
              "      <td>R. Cherki</td>\n",
              "      <td>16</td>\n",
              "      <td>RW</td>\n",
              "      <td>69</td>\n",
              "      <td>88</td>\n",
              "      <td>Olympique Lyonnais</td>\n",
              "      <td>6000</td>\n",
              "      <td>1622</td>\n",
              "    </tr>\n",
              "    <tr>\n",
              "      <th>2423</th>\n",
              "      <td>R. Cherki</td>\n",
              "      <td>16</td>\n",
              "      <td>RW</td>\n",
              "      <td>69</td>\n",
              "      <td>88</td>\n",
              "      <td>Olympique Lyonnais</td>\n",
              "      <td>6000</td>\n",
              "      <td>1622</td>\n",
              "    </tr>\n",
              "    <tr>\n",
              "      <th>2483</th>\n",
              "      <td>R. Cherki</td>\n",
              "      <td>16</td>\n",
              "      <td>RW</td>\n",
              "      <td>69</td>\n",
              "      <td>88</td>\n",
              "      <td>Olympique Lyonnais</td>\n",
              "      <td>6000</td>\n",
              "      <td>1622</td>\n",
              "    </tr>\n",
              "    <tr>\n",
              "      <th>2543</th>\n",
              "      <td>R. Cherki</td>\n",
              "      <td>16</td>\n",
              "      <td>RW</td>\n",
              "      <td>69</td>\n",
              "      <td>88</td>\n",
              "      <td>Olympique Lyonnais</td>\n",
              "      <td>6000</td>\n",
              "      <td>1622</td>\n",
              "    </tr>\n",
              "    <tr>\n",
              "      <th>2603</th>\n",
              "      <td>R. Cherki</td>\n",
              "      <td>16</td>\n",
              "      <td>RW</td>\n",
              "      <td>69</td>\n",
              "      <td>88</td>\n",
              "      <td>Olympique Lyonnais</td>\n",
              "      <td>6000</td>\n",
              "      <td>1622</td>\n",
              "    </tr>\n",
              "    <tr>\n",
              "      <th>2663</th>\n",
              "      <td>R. Cherki</td>\n",
              "      <td>16</td>\n",
              "      <td>RW</td>\n",
              "      <td>69</td>\n",
              "      <td>88</td>\n",
              "      <td>Olympique Lyonnais</td>\n",
              "      <td>6000</td>\n",
              "      <td>1622</td>\n",
              "    </tr>\n",
              "    <tr>\n",
              "      <th>2723</th>\n",
              "      <td>R. Cherki</td>\n",
              "      <td>16</td>\n",
              "      <td>RW</td>\n",
              "      <td>69</td>\n",
              "      <td>88</td>\n",
              "      <td>Olympique Lyonnais</td>\n",
              "      <td>6000</td>\n",
              "      <td>1622</td>\n",
              "    </tr>\n",
              "    <tr>\n",
              "      <th>2783</th>\n",
              "      <td>R. Cherki</td>\n",
              "      <td>16</td>\n",
              "      <td>RW</td>\n",
              "      <td>69</td>\n",
              "      <td>88</td>\n",
              "      <td>Olympique Lyonnais</td>\n",
              "      <td>6000</td>\n",
              "      <td>1622</td>\n",
              "    </tr>\n",
              "    <tr>\n",
              "      <th>2843</th>\n",
              "      <td>R. Cherki</td>\n",
              "      <td>16</td>\n",
              "      <td>RW</td>\n",
              "      <td>69</td>\n",
              "      <td>88</td>\n",
              "      <td>Olympique Lyonnais</td>\n",
              "      <td>6000</td>\n",
              "      <td>1622</td>\n",
              "    </tr>\n",
              "    <tr>\n",
              "      <th>2903</th>\n",
              "      <td>R. Cherki</td>\n",
              "      <td>16</td>\n",
              "      <td>RW</td>\n",
              "      <td>69</td>\n",
              "      <td>88</td>\n",
              "      <td>Olympique Lyonnais</td>\n",
              "      <td>6000</td>\n",
              "      <td>1622</td>\n",
              "    </tr>\n",
              "    <tr>\n",
              "      <th>2963</th>\n",
              "      <td>R. Cherki</td>\n",
              "      <td>16</td>\n",
              "      <td>RW</td>\n",
              "      <td>69</td>\n",
              "      <td>88</td>\n",
              "      <td>Olympique Lyonnais</td>\n",
              "      <td>6000</td>\n",
              "      <td>1622</td>\n",
              "    </tr>\n",
              "  </tbody>\n",
              "</table>\n",
              "</div>"
            ],
            "text/plain": [
              "            Nome  Idade Posicao  ...                Time  Salario Total_Pontos\n",
              "23     R. Cherki     16      RW  ...  Olympique Lyonnais     6000         1622\n",
              "143    R. Cherki     16      RW  ...  Olympique Lyonnais     6000         1622\n",
              "203    R. Cherki     16      RW  ...  Olympique Lyonnais     6000         1622\n",
              "263    R. Cherki     16      RW  ...  Olympique Lyonnais     6000         1622\n",
              "323    R. Cherki     16      RW  ...  Olympique Lyonnais     6000         1622\n",
              "383    R. Cherki     16      RW  ...  Olympique Lyonnais     6000         1622\n",
              "443    R. Cherki     16      RW  ...  Olympique Lyonnais     6000         1622\n",
              "503    R. Cherki     16      RW  ...  Olympique Lyonnais     6000         1622\n",
              "563    R. Cherki     16      RW  ...  Olympique Lyonnais     6000         1622\n",
              "623    R. Cherki     16      RW  ...  Olympique Lyonnais     6000         1622\n",
              "683    R. Cherki     16      RW  ...  Olympique Lyonnais     6000         1622\n",
              "743    R. Cherki     16      RW  ...  Olympique Lyonnais     6000         1622\n",
              "803    R. Cherki     16      RW  ...  Olympique Lyonnais     6000         1622\n",
              "863    R. Cherki     16      RW  ...  Olympique Lyonnais     6000         1622\n",
              "923    R. Cherki     16      RW  ...  Olympique Lyonnais     6000         1622\n",
              "983    R. Cherki     16      RW  ...  Olympique Lyonnais     6000         1622\n",
              "1043   R. Cherki     16      RW  ...  Olympique Lyonnais     6000         1622\n",
              "1103   R. Cherki     16      RW  ...  Olympique Lyonnais     6000         1622\n",
              "1163   R. Cherki     16      RW  ...  Olympique Lyonnais     6000         1622\n",
              "1223   R. Cherki     16      RW  ...  Olympique Lyonnais     6000         1622\n",
              "1283   R. Cherki     16      RW  ...  Olympique Lyonnais     6000         1622\n",
              "1343   R. Cherki     16      RW  ...  Olympique Lyonnais     6000         1622\n",
              "1403   R. Cherki     16      RW  ...  Olympique Lyonnais     6000         1622\n",
              "1463   R. Cherki     16      RW  ...  Olympique Lyonnais     6000         1622\n",
              "1523   R. Cherki     16      RW  ...  Olympique Lyonnais     6000         1622\n",
              "1583   R. Cherki     16      RW  ...  Olympique Lyonnais     6000         1622\n",
              "1643   R. Cherki     16      RW  ...  Olympique Lyonnais     6000         1622\n",
              "1703   R. Cherki     16      RW  ...  Olympique Lyonnais     6000         1622\n",
              "1763   R. Cherki     16      RW  ...  Olympique Lyonnais     6000         1622\n",
              "1823   R. Cherki     16      RW  ...  Olympique Lyonnais     6000         1622\n",
              "1883   R. Cherki     16      RW  ...  Olympique Lyonnais     6000         1622\n",
              "1943   R. Cherki     16      RW  ...  Olympique Lyonnais     6000         1622\n",
              "2003   R. Cherki     16      RW  ...  Olympique Lyonnais     6000         1622\n",
              "2063   R. Cherki     16      RW  ...  Olympique Lyonnais     6000         1622\n",
              "2123   R. Cherki     16      RW  ...  Olympique Lyonnais     6000         1622\n",
              "2183   R. Cherki     16      RW  ...  Olympique Lyonnais     6000         1622\n",
              "2243   R. Cherki     16      RW  ...  Olympique Lyonnais     6000         1622\n",
              "2303   R. Cherki     16      RW  ...  Olympique Lyonnais     6000         1622\n",
              "2363   R. Cherki     16      RW  ...  Olympique Lyonnais     6000         1622\n",
              "2423   R. Cherki     16      RW  ...  Olympique Lyonnais     6000         1622\n",
              "2483   R. Cherki     16      RW  ...  Olympique Lyonnais     6000         1622\n",
              "2543   R. Cherki     16      RW  ...  Olympique Lyonnais     6000         1622\n",
              "2603   R. Cherki     16      RW  ...  Olympique Lyonnais     6000         1622\n",
              "2663   R. Cherki     16      RW  ...  Olympique Lyonnais     6000         1622\n",
              "2723   R. Cherki     16      RW  ...  Olympique Lyonnais     6000         1622\n",
              "2783   R. Cherki     16      RW  ...  Olympique Lyonnais     6000         1622\n",
              "2843   R. Cherki     16      RW  ...  Olympique Lyonnais     6000         1622\n",
              "2903   R. Cherki     16      RW  ...  Olympique Lyonnais     6000         1622\n",
              "2963   R. Cherki     16      RW  ...  Olympique Lyonnais     6000         1622\n",
              "\n",
              "[49 rows x 8 columns]"
            ]
          },
          "metadata": {
            "tags": []
          },
          "execution_count": 443
        }
      ]
    },
    {
      "cell_type": "code",
      "metadata": {
        "id": "3sL9y7UdwQhb"
      },
      "source": [
        "# excluir dados duplicados\n",
        "\n",
        "dados.drop_duplicates(inplace=True)\n",
        "\n"
      ],
      "execution_count": null,
      "outputs": []
    },
    {
      "cell_type": "code",
      "metadata": {
        "colab": {
          "base_uri": "https://localhost:8080/"
        },
        "id": "r4xgHjTmtrTm",
        "outputId": "9e1f2f29-4ba0-4d5f-9b57-be4042660ff8"
      },
      "source": [
        "dados.info()"
      ],
      "execution_count": null,
      "outputs": [
        {
          "output_type": "stream",
          "text": [
            "<class 'pandas.core.frame.DataFrame'>\n",
            "Int64Index: 120 entries, 0 to 119\n",
            "Data columns (total 8 columns):\n",
            " #   Column        Non-Null Count  Dtype \n",
            "---  ------        --------------  ----- \n",
            " 0   Nome          120 non-null    object\n",
            " 1   Idade         120 non-null    int64 \n",
            " 2   Posicao       120 non-null    object\n",
            " 3   Media         120 non-null    int64 \n",
            " 4   Potencial     120 non-null    int64 \n",
            " 5   Time          120 non-null    object\n",
            " 6   Salario       120 non-null    int64 \n",
            " 7   Total_Pontos  120 non-null    int64 \n",
            "dtypes: int64(5), object(3)\n",
            "memory usage: 8.4+ KB\n"
          ],
          "name": "stdout"
        }
      ]
    },
    {
      "cell_type": "code",
      "metadata": {
        "id": "Cr4lExuBypZk"
      },
      "source": [
        ""
      ],
      "execution_count": null,
      "outputs": []
    },
    {
      "cell_type": "code",
      "metadata": {
        "colab": {
          "base_uri": "https://localhost:8080/"
        },
        "id": "Ju312SZpy4Xz",
        "outputId": "f090680f-16eb-4061-c1a1-a9f858290086"
      },
      "source": [
        "dados['Idade'].max()"
      ],
      "execution_count": null,
      "outputs": [
        {
          "output_type": "execute_result",
          "data": {
            "text/plain": [
              "35"
            ]
          },
          "metadata": {
            "tags": []
          },
          "execution_count": 446
        }
      ]
    },
    {
      "cell_type": "code",
      "metadata": {
        "colab": {
          "base_uri": "https://localhost:8080/",
          "height": 76
        },
        "id": "mkySDpu_zCld",
        "outputId": "4e8bd047-890a-4f1f-e095-9de78e1e6354"
      },
      "source": [
        "dados[dados['Idade']==35]"
      ],
      "execution_count": null,
      "outputs": [
        {
          "output_type": "execute_result",
          "data": {
            "text/html": [
              "<div>\n",
              "<style scoped>\n",
              "    .dataframe tbody tr th:only-of-type {\n",
              "        vertical-align: middle;\n",
              "    }\n",
              "\n",
              "    .dataframe tbody tr th {\n",
              "        vertical-align: top;\n",
              "    }\n",
              "\n",
              "    .dataframe thead th {\n",
              "        text-align: right;\n",
              "    }\n",
              "</style>\n",
              "<table border=\"1\" class=\"dataframe\">\n",
              "  <thead>\n",
              "    <tr style=\"text-align: right;\">\n",
              "      <th></th>\n",
              "      <th>Nome</th>\n",
              "      <th>Idade</th>\n",
              "      <th>Posicao</th>\n",
              "      <th>Media</th>\n",
              "      <th>Potencial</th>\n",
              "      <th>Time</th>\n",
              "      <th>Salario</th>\n",
              "      <th>Total_Pontos</th>\n",
              "    </tr>\n",
              "  </thead>\n",
              "  <tbody>\n",
              "    <tr>\n",
              "      <th>43</th>\n",
              "      <td>Cristiano Ronaldo</td>\n",
              "      <td>35</td>\n",
              "      <td>ST</td>\n",
              "      <td>92</td>\n",
              "      <td>92</td>\n",
              "      <td>Juventus</td>\n",
              "      <td>220000</td>\n",
              "      <td>2221</td>\n",
              "    </tr>\n",
              "  </tbody>\n",
              "</table>\n",
              "</div>"
            ],
            "text/plain": [
              "                  Nome  Idade Posicao  ...      Time  Salario Total_Pontos\n",
              "43   Cristiano Ronaldo     35      ST  ...  Juventus   220000         2221\n",
              "\n",
              "[1 rows x 8 columns]"
            ]
          },
          "metadata": {
            "tags": []
          },
          "execution_count": 447
        }
      ]
    },
    {
      "cell_type": "markdown",
      "metadata": {
        "id": "oOWbTak_sDr0"
      },
      "source": [
        "Qual o jogador tem mais pontos no ranking?"
      ]
    },
    {
      "cell_type": "code",
      "metadata": {
        "colab": {
          "base_uri": "https://localhost:8080/"
        },
        "id": "wfPS_B15yz4F",
        "outputId": "e07589c4-6616-4252-c601-d2ee46ba36ba"
      },
      "source": [
        "dados['Total_Pontos'].max()"
      ],
      "execution_count": null,
      "outputs": [
        {
          "output_type": "execute_result",
          "data": {
            "text/plain": [
              "2336"
            ]
          },
          "metadata": {
            "tags": []
          },
          "execution_count": 448
        }
      ]
    },
    {
      "cell_type": "code",
      "metadata": {
        "colab": {
          "base_uri": "https://localhost:8080/",
          "height": 76
        },
        "id": "wjUNkhnpzuPE",
        "outputId": "77595c31-7a14-453f-f6a6-b6b3f4ff80b2"
      },
      "source": [
        "dados[dados['Total_Pontos']==2231]"
      ],
      "execution_count": null,
      "outputs": [
        {
          "output_type": "execute_result",
          "data": {
            "text/html": [
              "<div>\n",
              "<style scoped>\n",
              "    .dataframe tbody tr th:only-of-type {\n",
              "        vertical-align: middle;\n",
              "    }\n",
              "\n",
              "    .dataframe tbody tr th {\n",
              "        vertical-align: top;\n",
              "    }\n",
              "\n",
              "    .dataframe thead th {\n",
              "        text-align: right;\n",
              "    }\n",
              "</style>\n",
              "<table border=\"1\" class=\"dataframe\">\n",
              "  <thead>\n",
              "    <tr style=\"text-align: right;\">\n",
              "      <th></th>\n",
              "      <th>Nome</th>\n",
              "      <th>Idade</th>\n",
              "      <th>Posicao</th>\n",
              "      <th>Media</th>\n",
              "      <th>Potencial</th>\n",
              "      <th>Time</th>\n",
              "      <th>Salario</th>\n",
              "      <th>Total_Pontos</th>\n",
              "    </tr>\n",
              "  </thead>\n",
              "  <tbody>\n",
              "    <tr>\n",
              "      <th>58</th>\n",
              "      <td>L. Messi</td>\n",
              "      <td>33</td>\n",
              "      <td>RW</td>\n",
              "      <td>93</td>\n",
              "      <td>93</td>\n",
              "      <td>FC Barcelona</td>\n",
              "      <td>560000</td>\n",
              "      <td>2231</td>\n",
              "    </tr>\n",
              "  </tbody>\n",
              "</table>\n",
              "</div>"
            ],
            "text/plain": [
              "         Nome  Idade Posicao  ...          Time  Salario Total_Pontos\n",
              "58   L. Messi     33      RW  ...  FC Barcelona   560000         2231\n",
              "\n",
              "[1 rows x 8 columns]"
            ]
          },
          "metadata": {
            "tags": []
          },
          "execution_count": 449
        }
      ]
    },
    {
      "cell_type": "code",
      "metadata": {
        "colab": {
          "base_uri": "https://localhost:8080/"
        },
        "id": "JGHeOzyW0h52",
        "outputId": "fec298b7-a6f1-4b73-a0ec-e6fc20819cf1"
      },
      "source": [
        "dados[dados['Total_Pontos']==dados['Total_Pontos'].max()]['Nome']"
      ],
      "execution_count": null,
      "outputs": [
        {
          "output_type": "execute_result",
          "data": {
            "text/plain": [
              "12     Bruno Fernandes\n",
              "Name: Nome, dtype: object"
            ]
          },
          "metadata": {
            "tags": []
          },
          "execution_count": 450
        }
      ]
    },
    {
      "cell_type": "markdown",
      "metadata": {
        "id": "zf7LkFQssPPn"
      },
      "source": [
        "Qual a posição mais comum dos jogadores nos nossos dados?"
      ]
    },
    {
      "cell_type": "code",
      "metadata": {
        "colab": {
          "base_uri": "https://localhost:8080/"
        },
        "id": "dCwCUqC515XL",
        "outputId": "fa0d12fb-5405-4240-9aa4-4de360de32b6"
      },
      "source": [
        "dados['Posicao'].value_counts()"
      ],
      "execution_count": null,
      "outputs": [
        {
          "output_type": "execute_result",
          "data": {
            "text/plain": [
              "ST     24\n",
              "CB     16\n",
              "CM     14\n",
              "CAM    13\n",
              "RW     12\n",
              "LW      9\n",
              "RM      8\n",
              "CDM     7\n",
              "RB      6\n",
              "LM      3\n",
              "GK      3\n",
              "LB      2\n",
              "LWB     1\n",
              "RWB     1\n",
              "CF      1\n",
              "Name: Posicao, dtype: int64"
            ]
          },
          "metadata": {
            "tags": []
          },
          "execution_count": 451
        }
      ]
    },
    {
      "cell_type": "markdown",
      "metadata": {
        "id": "7GSmW_BcsSv7"
      },
      "source": [
        "O time que mais aparece nos dados?"
      ]
    },
    {
      "cell_type": "code",
      "metadata": {
        "colab": {
          "base_uri": "https://localhost:8080/"
        },
        "id": "UbuI8WBz2BPP",
        "outputId": "c4e7ac56-5622-4a8c-e188-e38258959f54"
      },
      "source": [
        "dados['Time'].value_counts().head()"
      ],
      "execution_count": null,
      "outputs": [
        {
          "output_type": "execute_result",
          "data": {
            "text/plain": [
              "FC Barcelona           9\n",
              "Manchester United      7\n",
              "Bayer 04 Leverkusen    5\n",
              "FC Bayern München      5\n",
              "RB Leipzig             4\n",
              "Name: Time, dtype: int64"
            ]
          },
          "metadata": {
            "tags": []
          },
          "execution_count": 452
        }
      ]
    },
    {
      "cell_type": "markdown",
      "metadata": {
        "id": "L326kA9isVOS"
      },
      "source": [
        "Qual a pontuação mais alta (coluna Media)? E a mais baixa?"
      ]
    },
    {
      "cell_type": "code",
      "metadata": {
        "colab": {
          "base_uri": "https://localhost:8080/"
        },
        "id": "Kn05pp4v2Te3",
        "outputId": "2e2a56f7-6f7f-4f8e-8329-f80f8837d7c1"
      },
      "source": [
        "dados['Media'].max()"
      ],
      "execution_count": null,
      "outputs": [
        {
          "output_type": "execute_result",
          "data": {
            "text/plain": [
              "93"
            ]
          },
          "metadata": {
            "tags": []
          },
          "execution_count": 453
        }
      ]
    },
    {
      "cell_type": "code",
      "metadata": {
        "colab": {
          "base_uri": "https://localhost:8080/"
        },
        "id": "GnsyZglA2XKs",
        "outputId": "7270bb69-5bd9-4fa5-88a0-cd42ec2dd28b"
      },
      "source": [
        "dados['Media'].min()"
      ],
      "execution_count": null,
      "outputs": [
        {
          "output_type": "execute_result",
          "data": {
            "text/plain": [
              "60"
            ]
          },
          "metadata": {
            "tags": []
          },
          "execution_count": 454
        }
      ]
    },
    {
      "cell_type": "markdown",
      "metadata": {
        "id": "Sirw5axssXBp"
      },
      "source": [
        "Quem tem o maior salário? E o menor?"
      ]
    },
    {
      "cell_type": "code",
      "metadata": {
        "colab": {
          "base_uri": "https://localhost:8080/"
        },
        "id": "pA_0MBq_2cYZ",
        "outputId": "fec9dc74-3c32-45f4-dd6f-8eeefb42fb5b"
      },
      "source": [
        "dados['Salario'].max()"
      ],
      "execution_count": null,
      "outputs": [
        {
          "output_type": "execute_result",
          "data": {
            "text/plain": [
              "560000"
            ]
          },
          "metadata": {
            "tags": []
          },
          "execution_count": 455
        }
      ]
    },
    {
      "cell_type": "code",
      "metadata": {
        "colab": {
          "base_uri": "https://localhost:8080/"
        },
        "id": "AgjmSgi92fyM",
        "outputId": "dff031fb-1665-48f5-9b53-4b4fa8302277"
      },
      "source": [
        "dados['Salario'].min()"
      ],
      "execution_count": null,
      "outputs": [
        {
          "output_type": "execute_result",
          "data": {
            "text/plain": [
              "500"
            ]
          },
          "metadata": {
            "tags": []
          },
          "execution_count": 456
        }
      ]
    },
    {
      "cell_type": "code",
      "metadata": {
        "colab": {
          "base_uri": "https://localhost:8080/"
        },
        "id": "9vb1yaJT2jvg",
        "outputId": "3efb98c7-e731-4db5-b44b-5ccdcce8100c"
      },
      "source": [
        "dados[dados['Salario']==dados['Salario'].max()]['Nome']"
      ],
      "execution_count": null,
      "outputs": [
        {
          "output_type": "execute_result",
          "data": {
            "text/plain": [
              "58     L. Messi\n",
              "Name: Nome, dtype: object"
            ]
          },
          "metadata": {
            "tags": []
          },
          "execution_count": 457
        }
      ]
    },
    {
      "cell_type": "code",
      "metadata": {
        "colab": {
          "base_uri": "https://localhost:8080/"
        },
        "id": "doXfcl_h21cg",
        "outputId": "012790a7-c1f9-4dfa-b544-9c1c282655ad"
      },
      "source": [
        "dados[dados['Salario']==dados['Salario'].min()]['Nome']"
      ],
      "execution_count": null,
      "outputs": [
        {
          "output_type": "execute_result",
          "data": {
            "text/plain": [
              "8       J. Gvardiol\n",
              "36        A. Hložek\n",
              "44        C. Tzolis\n",
              "83     B. Arrey-Mbi\n",
              "Name: Nome, dtype: object"
            ]
          },
          "metadata": {
            "tags": []
          },
          "execution_count": 458
        }
      ]
    },
    {
      "cell_type": "markdown",
      "metadata": {
        "id": "0p9x9oMTsZD8"
      },
      "source": [
        "Qual o salário do jogador R. Lewandowski?"
      ]
    },
    {
      "cell_type": "code",
      "metadata": {
        "colab": {
          "base_uri": "https://localhost:8080/"
        },
        "id": "21zMPdBi3Dnw",
        "outputId": "fafdc587-2cd0-4d2b-f102-338742586edf"
      },
      "source": [
        "dados[dados['Nome']=='R. Lewandowski']['Salario']"
      ],
      "execution_count": null,
      "outputs": [
        {
          "output_type": "execute_result",
          "data": {
            "text/plain": [
              "Series([], Name: Salario, dtype: int64)"
            ]
          },
          "metadata": {
            "tags": []
          },
          "execution_count": 459
        }
      ]
    },
    {
      "cell_type": "markdown",
      "metadata": {
        "id": "D0Ap1yUj6Nnv"
      },
      "source": [
        "Quantos time únicos existem?"
      ]
    },
    {
      "cell_type": "code",
      "metadata": {
        "colab": {
          "base_uri": "https://localhost:8080/"
        },
        "id": "u4xK8LKW6Sez",
        "outputId": "ec48922f-35c0-4aa0-9792-e784ec9149b6"
      },
      "source": [
        "dados['Time'].nunique()"
      ],
      "execution_count": null,
      "outputs": [
        {
          "output_type": "execute_result",
          "data": {
            "text/plain": [
              "59"
            ]
          },
          "metadata": {
            "tags": []
          },
          "execution_count": 460
        }
      ]
    },
    {
      "cell_type": "markdown",
      "metadata": {
        "id": "4Qjrtj0r6hJu"
      },
      "source": [
        "Quantos jogadores ganham mais de 100 mil de salário?"
      ]
    },
    {
      "cell_type": "code",
      "metadata": {
        "colab": {
          "base_uri": "https://localhost:8080/",
          "height": 450
        },
        "id": "JHt8BUTR6nJU",
        "outputId": "09c7c63a-7b5e-4807-9b94-67ab94697795"
      },
      "source": [
        "dados[dados['Salario']>=100000]"
      ],
      "execution_count": null,
      "outputs": [
        {
          "output_type": "execute_result",
          "data": {
            "text/html": [
              "<div>\n",
              "<style scoped>\n",
              "    .dataframe tbody tr th:only-of-type {\n",
              "        vertical-align: middle;\n",
              "    }\n",
              "\n",
              "    .dataframe tbody tr th {\n",
              "        vertical-align: top;\n",
              "    }\n",
              "\n",
              "    .dataframe thead th {\n",
              "        text-align: right;\n",
              "    }\n",
              "</style>\n",
              "<table border=\"1\" class=\"dataframe\">\n",
              "  <thead>\n",
              "    <tr style=\"text-align: right;\">\n",
              "      <th></th>\n",
              "      <th>Nome</th>\n",
              "      <th>Idade</th>\n",
              "      <th>Posicao</th>\n",
              "      <th>Media</th>\n",
              "      <th>Potencial</th>\n",
              "      <th>Time</th>\n",
              "      <th>Salario</th>\n",
              "      <th>Total_Pontos</th>\n",
              "    </tr>\n",
              "  </thead>\n",
              "  <tbody>\n",
              "    <tr>\n",
              "      <th>12</th>\n",
              "      <td>Bruno Fernandes</td>\n",
              "      <td>25</td>\n",
              "      <td>CAM</td>\n",
              "      <td>88</td>\n",
              "      <td>91</td>\n",
              "      <td>Manchester United</td>\n",
              "      <td>240000</td>\n",
              "      <td>2336</td>\n",
              "    </tr>\n",
              "    <tr>\n",
              "      <th>21</th>\n",
              "      <td>Raphinha</td>\n",
              "      <td>23</td>\n",
              "      <td>RM</td>\n",
              "      <td>81</td>\n",
              "      <td>87</td>\n",
              "      <td>Leeds United</td>\n",
              "      <td>100000</td>\n",
              "      <td>2071</td>\n",
              "    </tr>\n",
              "    <tr>\n",
              "      <th>38</th>\n",
              "      <td>F. Valverde</td>\n",
              "      <td>21</td>\n",
              "      <td>CM</td>\n",
              "      <td>83</td>\n",
              "      <td>89</td>\n",
              "      <td>Real Madrid</td>\n",
              "      <td>135000</td>\n",
              "      <td>2174</td>\n",
              "    </tr>\n",
              "    <tr>\n",
              "      <th>39</th>\n",
              "      <td>V. van Dijk</td>\n",
              "      <td>28</td>\n",
              "      <td>CB</td>\n",
              "      <td>90</td>\n",
              "      <td>91</td>\n",
              "      <td>Liverpool</td>\n",
              "      <td>210000</td>\n",
              "      <td>2109</td>\n",
              "    </tr>\n",
              "    <tr>\n",
              "      <th>43</th>\n",
              "      <td>Cristiano Ronaldo</td>\n",
              "      <td>35</td>\n",
              "      <td>ST</td>\n",
              "      <td>92</td>\n",
              "      <td>92</td>\n",
              "      <td>Juventus</td>\n",
              "      <td>220000</td>\n",
              "      <td>2221</td>\n",
              "    </tr>\n",
              "    <tr>\n",
              "      <th>58</th>\n",
              "      <td>L. Messi</td>\n",
              "      <td>33</td>\n",
              "      <td>RW</td>\n",
              "      <td>93</td>\n",
              "      <td>93</td>\n",
              "      <td>FC Barcelona</td>\n",
              "      <td>560000</td>\n",
              "      <td>2231</td>\n",
              "    </tr>\n",
              "    <tr>\n",
              "      <th>63</th>\n",
              "      <td>Rúben Dias</td>\n",
              "      <td>23</td>\n",
              "      <td>CB</td>\n",
              "      <td>82</td>\n",
              "      <td>87</td>\n",
              "      <td>Manchester City</td>\n",
              "      <td>110000</td>\n",
              "      <td>1777</td>\n",
              "    </tr>\n",
              "    <tr>\n",
              "      <th>64</th>\n",
              "      <td>J. Rodríguez</td>\n",
              "      <td>28</td>\n",
              "      <td>RW</td>\n",
              "      <td>82</td>\n",
              "      <td>82</td>\n",
              "      <td>Everton</td>\n",
              "      <td>115000</td>\n",
              "      <td>2103</td>\n",
              "    </tr>\n",
              "    <tr>\n",
              "      <th>70</th>\n",
              "      <td>M. Ødegaard</td>\n",
              "      <td>21</td>\n",
              "      <td>CAM</td>\n",
              "      <td>83</td>\n",
              "      <td>89</td>\n",
              "      <td>Arsenal</td>\n",
              "      <td>135000</td>\n",
              "      <td>2096</td>\n",
              "    </tr>\n",
              "    <tr>\n",
              "      <th>73</th>\n",
              "      <td>K. Mbappé</td>\n",
              "      <td>21</td>\n",
              "      <td>ST</td>\n",
              "      <td>90</td>\n",
              "      <td>95</td>\n",
              "      <td>Paris Saint-Germain</td>\n",
              "      <td>160000</td>\n",
              "      <td>2147</td>\n",
              "    </tr>\n",
              "    <tr>\n",
              "      <th>74</th>\n",
              "      <td>F. de Jong</td>\n",
              "      <td>23</td>\n",
              "      <td>CM</td>\n",
              "      <td>86</td>\n",
              "      <td>91</td>\n",
              "      <td>FC Barcelona</td>\n",
              "      <td>210000</td>\n",
              "      <td>2196</td>\n",
              "    </tr>\n",
              "    <tr>\n",
              "      <th>75</th>\n",
              "      <td>M. Rashford</td>\n",
              "      <td>22</td>\n",
              "      <td>LM</td>\n",
              "      <td>85</td>\n",
              "      <td>91</td>\n",
              "      <td>Manchester United</td>\n",
              "      <td>150000</td>\n",
              "      <td>2158</td>\n",
              "    </tr>\n",
              "    <tr>\n",
              "      <th>104</th>\n",
              "      <td>J. Kimmich</td>\n",
              "      <td>25</td>\n",
              "      <td>CDM</td>\n",
              "      <td>89</td>\n",
              "      <td>90</td>\n",
              "      <td>FC Bayern München</td>\n",
              "      <td>150000</td>\n",
              "      <td>2284</td>\n",
              "    </tr>\n",
              "    <tr>\n",
              "      <th>118</th>\n",
              "      <td>R. Lewandowski</td>\n",
              "      <td>31</td>\n",
              "      <td>ST</td>\n",
              "      <td>92</td>\n",
              "      <td>92</td>\n",
              "      <td>FC Bayern München</td>\n",
              "      <td>270000</td>\n",
              "      <td>2213</td>\n",
              "    </tr>\n",
              "  </tbody>\n",
              "</table>\n",
              "</div>"
            ],
            "text/plain": [
              "                   Nome  Idade  ... Salario  Total_Pontos\n",
              "12      Bruno Fernandes     25  ...  240000          2336\n",
              "21             Raphinha     23  ...  100000          2071\n",
              "38          F. Valverde     21  ...  135000          2174\n",
              "39          V. van Dijk     28  ...  210000          2109\n",
              "43    Cristiano Ronaldo     35  ...  220000          2221\n",
              "58             L. Messi     33  ...  560000          2231\n",
              "63           Rúben Dias     23  ...  110000          1777\n",
              "64         J. Rodríguez     28  ...  115000          2103\n",
              "70          M. Ødegaard     21  ...  135000          2096\n",
              "73            K. Mbappé     21  ...  160000          2147\n",
              "74           F. de Jong     23  ...  210000          2196\n",
              "75          M. Rashford     22  ...  150000          2158\n",
              "104          J. Kimmich     25  ...  150000          2284\n",
              "118      R. Lewandowski     31  ...  270000          2213\n",
              "\n",
              "[14 rows x 8 columns]"
            ]
          },
          "metadata": {
            "tags": []
          },
          "execution_count": 461
        }
      ]
    },
    {
      "cell_type": "code",
      "metadata": {
        "id": "SWrvtHnVBEsQ"
      },
      "source": [
        "sal_100 = dados[dados['Salario']>=100000]"
      ],
      "execution_count": null,
      "outputs": []
    },
    {
      "cell_type": "code",
      "metadata": {
        "colab": {
          "base_uri": "https://localhost:8080/"
        },
        "id": "dJjpOVyyBLjg",
        "outputId": "ad3b8cf4-5117-4e25-b3a5-8f6ae8b53d32"
      },
      "source": [
        "sal_100['Nome'].nunique()"
      ],
      "execution_count": null,
      "outputs": [
        {
          "output_type": "execute_result",
          "data": {
            "text/plain": [
              "14"
            ]
          },
          "metadata": {
            "tags": []
          },
          "execution_count": 463
        }
      ]
    },
    {
      "cell_type": "markdown",
      "metadata": {
        "id": "G2BV8gUO7Adm"
      },
      "source": [
        "Qual a média salarial dos 5 clubes mais comuns?"
      ]
    },
    {
      "cell_type": "code",
      "metadata": {
        "colab": {
          "base_uri": "https://localhost:8080/"
        },
        "id": "kuGZNhoR6-zH",
        "outputId": "30a40a08-9af7-4ea0-9b77-d61167e30271"
      },
      "source": [
        "dados['Time'].value_counts().head()"
      ],
      "execution_count": null,
      "outputs": [
        {
          "output_type": "execute_result",
          "data": {
            "text/plain": [
              "FC Barcelona           9\n",
              "Manchester United      7\n",
              "Bayer 04 Leverkusen    5\n",
              "FC Bayern München      5\n",
              "RB Leipzig             4\n",
              "Name: Time, dtype: int64"
            ]
          },
          "metadata": {
            "tags": []
          },
          "execution_count": 464
        }
      ]
    },
    {
      "cell_type": "code",
      "metadata": {
        "colab": {
          "base_uri": "https://localhost:8080/"
        },
        "id": "Np5_AVp1BiGm",
        "outputId": "f3ca6d75-cf41-4af9-de0b-cbc518a64950"
      },
      "source": [
        "dados[dados['Time']=='Real Madrid'].mean()"
      ],
      "execution_count": null,
      "outputs": [
        {
          "output_type": "execute_result",
          "data": {
            "text/plain": [
              "Idade              20.00\n",
              "Media              79.25\n",
              "Potencial          88.75\n",
              "Salario         92500.00\n",
              "Total_Pontos     1785.25\n",
              "dtype: float64"
            ]
          },
          "metadata": {
            "tags": []
          },
          "execution_count": 465
        }
      ]
    },
    {
      "cell_type": "code",
      "metadata": {
        "colab": {
          "base_uri": "https://localhost:8080/"
        },
        "id": "etnAp0_x6IRB",
        "outputId": "07d1d434-c472-424f-b2f1-25d0b959a821"
      },
      "source": [
        "dados[dados['Time']=='Real Madrid']['Salario'].mean()"
      ],
      "execution_count": null,
      "outputs": [
        {
          "output_type": "execute_result",
          "data": {
            "text/plain": [
              "92500.0"
            ]
          },
          "metadata": {
            "tags": []
          },
          "execution_count": 466
        }
      ]
    },
    {
      "cell_type": "code",
      "metadata": {
        "colab": {
          "base_uri": "https://localhost:8080/"
        },
        "id": "nCnLhGj2B9jE",
        "outputId": "64f51306-eb37-4050-a5f4-740936048828"
      },
      "source": [
        "dados[dados['Time']=='West Ham United']['Salario'].mean()"
      ],
      "execution_count": null,
      "outputs": [
        {
          "output_type": "execute_result",
          "data": {
            "text/plain": [
              "41500.0"
            ]
          },
          "metadata": {
            "tags": []
          },
          "execution_count": 467
        }
      ]
    },
    {
      "cell_type": "code",
      "metadata": {
        "colab": {
          "base_uri": "https://localhost:8080/"
        },
        "id": "4h9i9K-6CEkr",
        "outputId": "c849e8c6-61d9-41b5-bf25-156bf3765c40"
      },
      "source": [
        "dados[dados['Time']=='Ajax']['Salario'].mean()"
      ],
      "execution_count": null,
      "outputs": [
        {
          "output_type": "execute_result",
          "data": {
            "text/plain": [
              "13666.666666666666"
            ]
          },
          "metadata": {
            "tags": []
          },
          "execution_count": 468
        }
      ]
    },
    {
      "cell_type": "code",
      "metadata": {
        "colab": {
          "base_uri": "https://localhost:8080/"
        },
        "id": "aVv6fcF7CIrA",
        "outputId": "bd960027-767d-409e-c829-a01680a0aa8a"
      },
      "source": [
        "dados[dados['Time']=='Milan']['Salario'].mean()"
      ],
      "execution_count": null,
      "outputs": [
        {
          "output_type": "execute_result",
          "data": {
            "text/plain": [
              "25000.0"
            ]
          },
          "metadata": {
            "tags": []
          },
          "execution_count": 469
        }
      ]
    },
    {
      "cell_type": "code",
      "metadata": {
        "colab": {
          "base_uri": "https://localhost:8080/"
        },
        "id": "b7BMX7oICL9l",
        "outputId": "2a8f3158-30ac-4bd7-f4cd-84dc9eac3850"
      },
      "source": [
        "dados[dados['Time']=='AS Monaco']['Salario'].mean()"
      ],
      "execution_count": null,
      "outputs": [
        {
          "output_type": "execute_result",
          "data": {
            "text/plain": [
              "nan"
            ]
          },
          "metadata": {
            "tags": []
          },
          "execution_count": 470
        }
      ]
    },
    {
      "cell_type": "code",
      "metadata": {
        "id": "370nz7whCWez"
      },
      "source": [
        "dados.to_csv('sds_fifa_atualizado.csv')"
      ],
      "execution_count": null,
      "outputs": []
    },
    {
      "cell_type": "markdown",
      "metadata": {
        "id": "JEvXBU8ZDkQ_"
      },
      "source": [
        "# **Aula 04 - Visualização dos Dados**"
      ]
    },
    {
      "cell_type": "code",
      "metadata": {
        "id": "b8bz4C5_DmIq"
      },
      "source": [
        "dados = pd.read_csv('sds_fifa_atualizado.csv')"
      ],
      "execution_count": null,
      "outputs": []
    },
    {
      "cell_type": "code",
      "metadata": {
        "colab": {
          "base_uri": "https://localhost:8080/",
          "height": 191
        },
        "id": "jiLxsJShDuc6",
        "outputId": "81524ac8-e9fe-47a4-ec2e-d1781350c730"
      },
      "source": [
        "dados.head()"
      ],
      "execution_count": null,
      "outputs": [
        {
          "output_type": "execute_result",
          "data": {
            "text/html": [
              "<div>\n",
              "<style scoped>\n",
              "    .dataframe tbody tr th:only-of-type {\n",
              "        vertical-align: middle;\n",
              "    }\n",
              "\n",
              "    .dataframe tbody tr th {\n",
              "        vertical-align: top;\n",
              "    }\n",
              "\n",
              "    .dataframe thead th {\n",
              "        text-align: right;\n",
              "    }\n",
              "</style>\n",
              "<table border=\"1\" class=\"dataframe\">\n",
              "  <thead>\n",
              "    <tr style=\"text-align: right;\">\n",
              "      <th></th>\n",
              "      <th>Unnamed: 0</th>\n",
              "      <th>Nome</th>\n",
              "      <th>Idade</th>\n",
              "      <th>Posicao</th>\n",
              "      <th>Media</th>\n",
              "      <th>Potencial</th>\n",
              "      <th>Time</th>\n",
              "      <th>Salario</th>\n",
              "      <th>Total_Pontos</th>\n",
              "    </tr>\n",
              "  </thead>\n",
              "  <tbody>\n",
              "    <tr>\n",
              "      <th>0</th>\n",
              "      <td>0</td>\n",
              "      <td>S. García</td>\n",
              "      <td>29</td>\n",
              "      <td>ST</td>\n",
              "      <td>74</td>\n",
              "      <td>74</td>\n",
              "      <td>Godoy Cruz</td>\n",
              "      <td>12000</td>\n",
              "      <td>1847</td>\n",
              "    </tr>\n",
              "    <tr>\n",
              "      <th>1</th>\n",
              "      <td>1</td>\n",
              "      <td>S. Tonali</td>\n",
              "      <td>20</td>\n",
              "      <td>CDM</td>\n",
              "      <td>77</td>\n",
              "      <td>88</td>\n",
              "      <td>Milan</td>\n",
              "      <td>25000</td>\n",
              "      <td>2082</td>\n",
              "    </tr>\n",
              "    <tr>\n",
              "      <th>2</th>\n",
              "      <td>2</td>\n",
              "      <td>R. Gravenberch</td>\n",
              "      <td>18</td>\n",
              "      <td>CM</td>\n",
              "      <td>76</td>\n",
              "      <td>89</td>\n",
              "      <td>Ajax</td>\n",
              "      <td>6000</td>\n",
              "      <td>2033</td>\n",
              "    </tr>\n",
              "    <tr>\n",
              "      <th>3</th>\n",
              "      <td>3</td>\n",
              "      <td>M. Mohamed</td>\n",
              "      <td>22</td>\n",
              "      <td>ST</td>\n",
              "      <td>74</td>\n",
              "      <td>81</td>\n",
              "      <td>Galatasaray SK</td>\n",
              "      <td>47000</td>\n",
              "      <td>1798</td>\n",
              "    </tr>\n",
              "    <tr>\n",
              "      <th>4</th>\n",
              "      <td>4</td>\n",
              "      <td>A. Diallo</td>\n",
              "      <td>17</td>\n",
              "      <td>RM</td>\n",
              "      <td>66</td>\n",
              "      <td>86</td>\n",
              "      <td>Manchester United</td>\n",
              "      <td>3000</td>\n",
              "      <td>1518</td>\n",
              "    </tr>\n",
              "  </tbody>\n",
              "</table>\n",
              "</div>"
            ],
            "text/plain": [
              "   Unnamed: 0             Nome  Idade  ...               Time  Salario  Total_Pontos\n",
              "0           0        S. García     29  ...         Godoy Cruz    12000          1847\n",
              "1           1        S. Tonali     20  ...              Milan    25000          2082\n",
              "2           2   R. Gravenberch     18  ...               Ajax     6000          2033\n",
              "3           3       M. Mohamed     22  ...     Galatasaray SK    47000          1798\n",
              "4           4        A. Diallo     17  ...  Manchester United     3000          1518\n",
              "\n",
              "[5 rows x 9 columns]"
            ]
          },
          "metadata": {
            "tags": []
          },
          "execution_count": 473
        }
      ]
    },
    {
      "cell_type": "code",
      "metadata": {
        "id": "6aNl9evVGege"
      },
      "source": [
        "dados.drop('Unnamed: 0',axis=1, inplace=True)"
      ],
      "execution_count": null,
      "outputs": []
    },
    {
      "cell_type": "code",
      "metadata": {
        "colab": {
          "base_uri": "https://localhost:8080/",
          "height": 281
        },
        "id": "HtDLqtS3GPQf",
        "outputId": "49051752-a3cd-49c8-bfde-3e38aa75b4a7"
      },
      "source": [
        "dados.plot()"
      ],
      "execution_count": null,
      "outputs": [
        {
          "output_type": "execute_result",
          "data": {
            "text/plain": [
              "<matplotlib.axes._subplots.AxesSubplot at 0x7f4f72273ef0>"
            ]
          },
          "metadata": {
            "tags": []
          },
          "execution_count": 475
        },
        {
          "output_type": "display_data",
          "data": {
            "image/png": "[encoded data removed]",
            "text/plain": [
              "<Figure size 432x288 with 1 Axes>"
            ]
          },
          "metadata": {
            "tags": [],
            "needs_background": "light"
          }
        }
      ]
    },
    {
      "cell_type": "code",
      "metadata": {
        "colab": {
          "base_uri": "https://localhost:8080/",
          "height": 395
        },
        "id": "q_yY2DoWG9Zb",
        "outputId": "2c78a033-d2c4-45f8-d83a-cfe5c4913dd8"
      },
      "source": [
        "# obter o histograma das variáveis\n",
        "dados.hist()"
      ],
      "execution_count": null,
      "outputs": [
        {
          "output_type": "execute_result",
          "data": {
            "text/plain": [
              "array([[<matplotlib.axes._subplots.AxesSubplot object at 0x7f4f722a1470>,\n",
              "        <matplotlib.axes._subplots.AxesSubplot object at 0x7f4f72211198>],\n",
              "       [<matplotlib.axes._subplots.AxesSubplot object at 0x7f4f721bf518>,\n",
              "        <matplotlib.axes._subplots.AxesSubplot object at 0x7f4f72170898>],\n",
              "       [<matplotlib.axes._subplots.AxesSubplot object at 0x7f4f721a2c18>,\n",
              "        <matplotlib.axes._subplots.AxesSubplot object at 0x7f4f72156f98>]],\n",
              "      dtype=object)"
            ]
          },
          "metadata": {
            "tags": []
          },
          "execution_count": 476
        },
        {
          "output_type": "display_data",
          "data": {
            "image/png": "[encoded data removed]",
            "text/plain": [
              "<Figure size 432x288 with 6 Axes>"
            ]
          },
          "metadata": {
            "tags": [],
            "needs_background": "light"
          }
        }
      ]
    },
    {
      "cell_type": "code",
      "metadata": {
        "colab": {
          "base_uri": "https://localhost:8080/",
          "height": 191
        },
        "id": "_w4O5cW7HF9M",
        "outputId": "1393ef42-7311-4762-d25a-e1d2c7c0573a"
      },
      "source": [
        "# obter a correlação das variáveis\n",
        "dados.corr()"
      ],
      "execution_count": null,
      "outputs": [
        {
          "output_type": "execute_result",
          "data": {
            "text/html": [
              "<div>\n",
              "<style scoped>\n",
              "    .dataframe tbody tr th:only-of-type {\n",
              "        vertical-align: middle;\n",
              "    }\n",
              "\n",
              "    .dataframe tbody tr th {\n",
              "        vertical-align: top;\n",
              "    }\n",
              "\n",
              "    .dataframe thead th {\n",
              "        text-align: right;\n",
              "    }\n",
              "</style>\n",
              "<table border=\"1\" class=\"dataframe\">\n",
              "  <thead>\n",
              "    <tr style=\"text-align: right;\">\n",
              "      <th></th>\n",
              "      <th>Idade</th>\n",
              "      <th>Media</th>\n",
              "      <th>Potencial</th>\n",
              "      <th>Salario</th>\n",
              "      <th>Total_Pontos</th>\n",
              "    </tr>\n",
              "  </thead>\n",
              "  <tbody>\n",
              "    <tr>\n",
              "      <th>Idade</th>\n",
              "      <td>1.000000</td>\n",
              "      <td>0.706812</td>\n",
              "      <td>-0.029127</td>\n",
              "      <td>0.673425</td>\n",
              "      <td>0.485602</td>\n",
              "    </tr>\n",
              "    <tr>\n",
              "      <th>Media</th>\n",
              "      <td>0.706812</td>\n",
              "      <td>1.000000</td>\n",
              "      <td>0.505428</td>\n",
              "      <td>0.714941</td>\n",
              "      <td>0.715436</td>\n",
              "    </tr>\n",
              "    <tr>\n",
              "      <th>Potencial</th>\n",
              "      <td>-0.029127</td>\n",
              "      <td>0.505428</td>\n",
              "      <td>1.000000</td>\n",
              "      <td>0.442205</td>\n",
              "      <td>0.354656</td>\n",
              "    </tr>\n",
              "    <tr>\n",
              "      <th>Salario</th>\n",
              "      <td>0.673425</td>\n",
              "      <td>0.714941</td>\n",
              "      <td>0.442205</td>\n",
              "      <td>1.000000</td>\n",
              "      <td>0.527552</td>\n",
              "    </tr>\n",
              "    <tr>\n",
              "      <th>Total_Pontos</th>\n",
              "      <td>0.485602</td>\n",
              "      <td>0.715436</td>\n",
              "      <td>0.354656</td>\n",
              "      <td>0.527552</td>\n",
              "      <td>1.000000</td>\n",
              "    </tr>\n",
              "  </tbody>\n",
              "</table>\n",
              "</div>"
            ],
            "text/plain": [
              "                 Idade     Media  Potencial   Salario  Total_Pontos\n",
              "Idade         1.000000  0.706812  -0.029127  0.673425      0.485602\n",
              "Media         0.706812  1.000000   0.505428  0.714941      0.715436\n",
              "Potencial    -0.029127  0.505428   1.000000  0.442205      0.354656\n",
              "Salario       0.673425  0.714941   0.442205  1.000000      0.527552\n",
              "Total_Pontos  0.485602  0.715436   0.354656  0.527552      1.000000"
            ]
          },
          "metadata": {
            "tags": []
          },
          "execution_count": 477
        }
      ]
    },
    {
      "cell_type": "code",
      "metadata": {
        "colab": {
          "base_uri": "https://localhost:8080/"
        },
        "id": "xgL5jbS7HbuB",
        "outputId": "10bf0422-fc8a-49b9-ad89-eaac87a9fdf9"
      },
      "source": [
        "dados.columns"
      ],
      "execution_count": null,
      "outputs": [
        {
          "output_type": "execute_result",
          "data": {
            "text/plain": [
              "Index(['Nome', 'Idade', 'Posicao', 'Media', 'Potencial', 'Time', 'Salario',\n",
              "       'Total_Pontos'],\n",
              "      dtype='object')"
            ]
          },
          "metadata": {
            "tags": []
          },
          "execution_count": 478
        }
      ]
    },
    {
      "cell_type": "code",
      "metadata": {
        "id": "v0OaSPtBHZRc"
      },
      "source": [
        "colunas = ['Nome', 'Idade', 'Posicao', 'Media', 'Potencial', 'Time', 'Salario',\n",
        "       'Total_Pontos']"
      ],
      "execution_count": null,
      "outputs": []
    },
    {
      "cell_type": "code",
      "metadata": {
        "colab": {
          "base_uri": "https://localhost:8080/",
          "height": 50
        },
        "id": "7ZjYwEyGHvuX",
        "outputId": "53f98ce2-7bd3-4be8-da0c-52df4b1a13dc"
      },
      "source": [
        "plt.figure(figsize=(20, 12))"
      ],
      "execution_count": null,
      "outputs": [
        {
          "output_type": "execute_result",
          "data": {
            "text/plain": [
              "<Figure size 1440x864 with 0 Axes>"
            ]
          },
          "metadata": {
            "tags": []
          },
          "execution_count": 480
        },
        {
          "output_type": "display_data",
          "data": {
            "text/plain": [
              "<Figure size 1440x864 with 0 Axes>"
            ]
          },
          "metadata": {
            "tags": []
          }
        }
      ]
    },
    {
      "cell_type": "code",
      "metadata": {
        "colab": {
          "base_uri": "https://localhost:8080/",
          "height": 286
        },
        "id": "kNBnb9VQIC5u",
        "outputId": "187105b1-31f1-4de8-cdba-dc3f609a4c0f"
      },
      "source": [
        "sns.heatmap(dados[colunas].corr(), annot=True)"
      ],
      "execution_count": null,
      "outputs": [
        {
          "output_type": "execute_result",
          "data": {
            "text/plain": [
              "<matplotlib.axes._subplots.AxesSubplot at 0x7f4f72025a20>"
            ]
          },
          "metadata": {
            "tags": []
          },
          "execution_count": 481
        },
        {
          "output_type": "display_data",
          "data": {
            "image/png": "[encoded data removed]",
            "text/plain": [
              "<Figure size 432x288 with 2 Axes>"
            ]
          },
          "metadata": {
            "tags": [],
            "needs_background": "light"
          }
        }
      ]
    },
    {
      "cell_type": "code",
      "metadata": {
        "colab": {
          "base_uri": "https://localhost:8080/",
          "height": 746
        },
        "id": "ln8QwyKNJdHh",
        "outputId": "14c96970-311e-402f-b9e3-1eadecd5cae5"
      },
      "source": [
        "sns.clustermap(dados[colunas].corr(), annot = False)"
      ],
      "execution_count": null,
      "outputs": [
        {
          "output_type": "execute_result",
          "data": {
            "text/plain": [
              "<seaborn.matrix.ClusterGrid at 0x7f4f7205fcc0>"
            ]
          },
          "metadata": {
            "tags": []
          },
          "execution_count": 482
        },
        {
          "output_type": "display_data",
          "data": {
            "image/png": "[encoded data removed]",
            "text/plain": [
              "<Figure size 720x720 with 4 Axes>"
            ]
          },
          "metadata": {
            "tags": [],
            "needs_background": "light"
          }
        }
      ]
    },
    {
      "cell_type": "code",
      "metadata": {
        "colab": {
          "base_uri": "https://localhost:8080/",
          "height": 493
        },
        "id": "jfFkJzSsJ7E1",
        "outputId": "2d13077e-1b38-4e1a-bbce-c98664f20b6c"
      },
      "source": [
        "plt.figure(figsize=(10, 5))\n",
        "pl = sns.boxplot(x=dados['Time'], y=dados['Media'], palette='hls');\n",
        "pl.set_title(label='Média por Clube');\n",
        "plt.xlabel('Time')\n",
        "plt.xticks(rotation=80)\n",
        "plt.ylabel('Média')\n",
        "plt.yticks(rotation=80) \n",
        "plt.ylim(85, 95)"
      ],
      "execution_count": null,
      "outputs": [
        {
          "output_type": "execute_result",
          "data": {
            "text/plain": [
              "(85.0, 95.0)"
            ]
          },
          "metadata": {
            "tags": []
          },
          "execution_count": 483
        },
        {
          "output_type": "display_data",
          "data": {
            "image/png": "[encoded data removed]",
            "text/plain": [
              "<Figure size 720x360 with 1 Axes>"
            ]
          },
          "metadata": {
            "tags": [],
            "needs_background": "light"
          }
        }
      ]
    },
    {
      "cell_type": "code",
      "metadata": {
        "colab": {
          "base_uri": "https://localhost:8080/",
          "height": 510
        },
        "id": "-OFuikqXMKP_",
        "outputId": "bf7ed5a0-69ad-4f79-b8fb-2baa71c96459"
      },
      "source": [
        "sns.jointplot(dados['Idade'], dados['Media'])"
      ],
      "execution_count": null,
      "outputs": [
        {
          "output_type": "stream",
          "text": [
            "/usr/local/lib/python3.6/dist-packages/seaborn/_decorators.py:43: FutureWarning: Pass the following variables as keyword args: x, y. From version 0.12, the only valid positional argument will be `data`, and passing other arguments without an explicit keyword will result in an error or misinterpretation.\n",
            "  FutureWarning\n"
          ],
          "name": "stderr"
        },
        {
          "output_type": "execute_result",
          "data": {
            "text/plain": [
              "<seaborn.axisgrid.JointGrid at 0x7f4f722caeb8>"
            ]
          },
          "metadata": {
            "tags": []
          },
          "execution_count": 484
        },
        {
          "output_type": "display_data",
          "data": {
            "image/png": "[encoded data removed]",
            "text/plain": [
              "<Figure size 432x432 with 3 Axes>"
            ]
          },
          "metadata": {
            "tags": [],
            "needs_background": "light"
          }
        }
      ]
    },
    {
      "cell_type": "code",
      "metadata": {
        "colab": {
          "base_uri": "https://localhost:8080/",
          "height": 510
        },
        "id": "kjOOsSK1Mwt9",
        "outputId": "a60207d0-63e3-4179-b5da-54b83999cfdf"
      },
      "source": [
        "sns.jointplot(dados['Media'], dados['Salario'])"
      ],
      "execution_count": null,
      "outputs": [
        {
          "output_type": "stream",
          "text": [
            "/usr/local/lib/python3.6/dist-packages/seaborn/_decorators.py:43: FutureWarning: Pass the following variables as keyword args: x, y. From version 0.12, the only valid positional argument will be `data`, and passing other arguments without an explicit keyword will result in an error or misinterpretation.\n",
            "  FutureWarning\n"
          ],
          "name": "stderr"
        },
        {
          "output_type": "execute_result",
          "data": {
            "text/plain": [
              "<seaborn.axisgrid.JointGrid at 0x7f4f722cae80>"
            ]
          },
          "metadata": {
            "tags": []
          },
          "execution_count": 485
        },
        {
          "output_type": "display_data",
          "data": {
            "image/png": "[encoded data removed]",
            "text/plain": [
              "<Figure size 432x432 with 3 Axes>"
            ]
          },
          "metadata": {
            "tags": [],
            "needs_background": "light"
          }
        }
      ]
    },
    {
      "cell_type": "code",
      "metadata": {
        "colab": {
          "base_uri": "https://localhost:8080/",
          "height": 451
        },
        "id": "-Ggq6Hs-NBxA",
        "outputId": "5a21e2ca-9c10-4c28-88d9-2f540541eb4a"
      },
      "source": [
        "sns.catplot('Idade', 'Media', data=dados)"
      ],
      "execution_count": null,
      "outputs": [
        {
          "output_type": "stream",
          "text": [
            "/usr/local/lib/python3.6/dist-packages/seaborn/_decorators.py:43: FutureWarning: Pass the following variables as keyword args: x, y. From version 0.12, the only valid positional argument will be `data`, and passing other arguments without an explicit keyword will result in an error or misinterpretation.\n",
            "  FutureWarning\n"
          ],
          "name": "stderr"
        },
        {
          "output_type": "execute_result",
          "data": {
            "text/plain": [
              "<seaborn.axisgrid.FacetGrid at 0x7f4f734dc438>"
            ]
          },
          "metadata": {
            "tags": []
          },
          "execution_count": 486
        },
        {
          "output_type": "display_data",
          "data": {
            "image/png": "[encoded data removed]",
            "text/plain": [
              "<Figure size 360x360 with 1 Axes>"
            ]
          },
          "metadata": {
            "tags": [],
            "needs_background": "light"
          }
        }
      ]
    },
    {
      "cell_type": "code",
      "metadata": {
        "colab": {
          "base_uri": "https://localhost:8080/",
          "height": 628
        },
        "id": "4BuB_bmyNYlz",
        "outputId": "7d035a70-1596-4cac-fda0-14b5dcec7936"
      },
      "source": [
        "sns.catplot('Idade', 'Media', data=dados, kind='box').fig.set_size_inches(5, 8)"
      ],
      "execution_count": null,
      "outputs": [
        {
          "output_type": "stream",
          "text": [
            "/usr/local/lib/python3.6/dist-packages/seaborn/_decorators.py:43: FutureWarning: Pass the following variables as keyword args: x, y. From version 0.12, the only valid positional argument will be `data`, and passing other arguments without an explicit keyword will result in an error or misinterpretation.\n",
            "  FutureWarning\n"
          ],
          "name": "stderr"
        },
        {
          "output_type": "display_data",
          "data": {
            "image/png": "[encoded data removed]",
            "text/plain": [
              "<Figure size 360x576 with 1 Axes>"
            ]
          },
          "metadata": {
            "tags": [],
            "needs_background": "light"
          }
        }
      ]
    }
  ]
}